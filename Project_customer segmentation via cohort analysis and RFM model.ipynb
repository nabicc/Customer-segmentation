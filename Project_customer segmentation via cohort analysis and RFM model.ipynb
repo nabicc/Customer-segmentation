{
 "cells": [
  {
   "cell_type": "markdown",
   "metadata": {
    "toc": true
   },
   "source": [
    "<h1>Table of Contents<span class=\"tocSkip\"></span></h1>\n",
    "<div class=\"toc\"><ul class=\"toc-item\"><li><span><a href=\"#Customer-segmentation-via-a-cohort-analysis-and-RFM-model\" data-toc-modified-id=\"Customer-segmentation-via-a-cohort-analysis-and-RFM-model-1\">Customer segmentation via a cohort analysis and RFM model</a></span></li><li><span><a href=\"#1.-Preparing-data\" data-toc-modified-id=\"1.-Preparing-data-2\">1. Preparing data</a></span><ul class=\"toc-item\"><li><ul class=\"toc-item\"><li><span><a href=\"#Cleaning-Data\" data-toc-modified-id=\"Cleaning-Data-2.0.1\">Cleaning Data</a></span></li><li><span><a href=\"#Feature-engineer\" data-toc-modified-id=\"Feature-engineer-2.0.2\">Feature engineer</a></span></li></ul></li></ul></li><li><span><a href=\"#2.-Exploratory-Data-Analysis\" data-toc-modified-id=\"2.-Exploratory-Data-Analysis-3\">2. Exploratory Data Analysis</a></span><ul class=\"toc-item\"><li><span><a href=\"#2.-1-Business-Trends\" data-toc-modified-id=\"2.-1-Business-Trends-3.1\">2. 1 Business Trends</a></span></li><li><span><a href=\"#2.-2.-Analyzing-customers-trends\" data-toc-modified-id=\"2.-2.-Analyzing-customers-trends-3.2\">2. 2. Analyzing customers trends</a></span><ul class=\"toc-item\"><li><span><a href=\"#Customers-demographics\" data-toc-modified-id=\"Customers-demographics-3.2.1\">Customers demographics</a></span></li><li><span><a href=\"#Customers-behaviour\" data-toc-modified-id=\"Customers-behaviour-3.2.2\">Customers behaviour</a></span></li></ul></li></ul></li><li><span><a href=\"#3.-Customer-segmentation\" data-toc-modified-id=\"3.-Customer-segmentation-4\">3. Customer segmentation</a></span><ul class=\"toc-item\"><li><span><a href=\"#3.1-Cohort-analysis\" data-toc-modified-id=\"3.1-Cohort-analysis-4.1\">3.1 Cohort analysis</a></span><ul class=\"toc-item\"><li><span><a href=\"#Customer-Retention-Rate-(CRR)\" data-toc-modified-id=\"Customer-Retention-Rate-(CRR)-4.1.1\">Customer Retention Rate (CRR)</a></span></li><li><span><a href=\"#Average-Purchased-Quantity\" data-toc-modified-id=\"Average-Purchased-Quantity-4.1.2\">Average Purchased Quantity</a></span></li><li><span><a href=\"#Monetary-value-per-customer\" data-toc-modified-id=\"Monetary-value-per-customer-4.1.3\">Monetary value per customer</a></span></li></ul></li><li><span><a href=\"#3.2-Recency-Frequency-Monetary-Value-(RFM)-model\" data-toc-modified-id=\"3.2-Recency-Frequency-Monetary-Value-(RFM)-model-4.2\">3.2 Recency Frequency Monetary Value (RFM) model</a></span></li></ul></li><li><span><a href=\"#4.-Conclusion-and-recommendations\" data-toc-modified-id=\"4.-Conclusion-and-recommendations-5\">4. Conclusion and recommendations</a></span></li></ul></div>"
   ]
  },
  {
   "cell_type": "markdown",
   "metadata": {},
   "source": [
    "# Customer segmentation via a cohort analysis and RFM model"
   ]
  },
  {
   "cell_type": "markdown",
   "metadata": {},
   "source": [
    "In this project, I will use the \"Online Retail Database\" that contains customers' transactions between 2010 and 2011 from a \n",
    "non-store online retail based and registered in UK. The main goal is to provide a market segmentation of the clients, and provide valuable insights that can be used by the marketing department in order to target better their clients. This project is divided in fourth sections: 1) Preparing Data, 2) Exploratory Data Analysis, 3) Customer Segmentation, 4) Conclusion and recommendations    "
   ]
  },
  {
   "cell_type": "markdown",
   "metadata": {},
   "source": [
    "# 1. Preparing data"
   ]
  },
  {
   "cell_type": "markdown",
   "metadata": {},
   "source": [
    "**Importing libraries and data**"
   ]
  },
  {
   "cell_type": "code",
   "execution_count": 3,
   "metadata": {},
   "outputs": [],
   "source": [
    "import pandas as pd\n",
    "import numpy as np\n",
    "import seaborn as sns\n",
    "import matplotlib.pyplot as plt\n",
    "import geopandas as gpd\n",
    "import geopy.distance \n",
    "import datetime as dt\n",
    "\n",
    "plt.style.use('fivethirtyeight')\n",
    "%matplotlib inline"
   ]
  },
  {
   "cell_type": "code",
   "execution_count": 4,
   "metadata": {},
   "outputs": [
    {
     "data": {
      "text/html": [
       "<div>\n",
       "<style scoped>\n",
       "    .dataframe tbody tr th:only-of-type {\n",
       "        vertical-align: middle;\n",
       "    }\n",
       "\n",
       "    .dataframe tbody tr th {\n",
       "        vertical-align: top;\n",
       "    }\n",
       "\n",
       "    .dataframe thead th {\n",
       "        text-align: right;\n",
       "    }\n",
       "</style>\n",
       "<table border=\"1\" class=\"dataframe\">\n",
       "  <thead>\n",
       "    <tr style=\"text-align: right;\">\n",
       "      <th></th>\n",
       "      <th>InvoiceNo</th>\n",
       "      <th>StockCode</th>\n",
       "      <th>Description</th>\n",
       "      <th>Quantity</th>\n",
       "      <th>InvoiceDate</th>\n",
       "      <th>UnitPrice</th>\n",
       "      <th>CustomerID</th>\n",
       "      <th>Country</th>\n",
       "    </tr>\n",
       "  </thead>\n",
       "  <tbody>\n",
       "    <tr>\n",
       "      <td>0</td>\n",
       "      <td>536365</td>\n",
       "      <td>85123A</td>\n",
       "      <td>WHITE HANGING HEART T-LIGHT HOLDER</td>\n",
       "      <td>6</td>\n",
       "      <td>12/1/2010 8:26</td>\n",
       "      <td>2.55</td>\n",
       "      <td>17850.0</td>\n",
       "      <td>United Kingdom</td>\n",
       "    </tr>\n",
       "    <tr>\n",
       "      <td>1</td>\n",
       "      <td>536365</td>\n",
       "      <td>71053</td>\n",
       "      <td>WHITE METAL LANTERN</td>\n",
       "      <td>6</td>\n",
       "      <td>12/1/2010 8:26</td>\n",
       "      <td>3.39</td>\n",
       "      <td>17850.0</td>\n",
       "      <td>United Kingdom</td>\n",
       "    </tr>\n",
       "    <tr>\n",
       "      <td>2</td>\n",
       "      <td>536365</td>\n",
       "      <td>84406B</td>\n",
       "      <td>CREAM CUPID HEARTS COAT HANGER</td>\n",
       "      <td>8</td>\n",
       "      <td>12/1/2010 8:26</td>\n",
       "      <td>2.75</td>\n",
       "      <td>17850.0</td>\n",
       "      <td>United Kingdom</td>\n",
       "    </tr>\n",
       "    <tr>\n",
       "      <td>3</td>\n",
       "      <td>536365</td>\n",
       "      <td>84029G</td>\n",
       "      <td>KNITTED UNION FLAG HOT WATER BOTTLE</td>\n",
       "      <td>6</td>\n",
       "      <td>12/1/2010 8:26</td>\n",
       "      <td>3.39</td>\n",
       "      <td>17850.0</td>\n",
       "      <td>United Kingdom</td>\n",
       "    </tr>\n",
       "    <tr>\n",
       "      <td>4</td>\n",
       "      <td>536365</td>\n",
       "      <td>84029E</td>\n",
       "      <td>RED WOOLLY HOTTIE WHITE HEART.</td>\n",
       "      <td>6</td>\n",
       "      <td>12/1/2010 8:26</td>\n",
       "      <td>3.39</td>\n",
       "      <td>17850.0</td>\n",
       "      <td>United Kingdom</td>\n",
       "    </tr>\n",
       "  </tbody>\n",
       "</table>\n",
       "</div>"
      ],
      "text/plain": [
       "  InvoiceNo StockCode                          Description  Quantity  \\\n",
       "0    536365    85123A   WHITE HANGING HEART T-LIGHT HOLDER         6   \n",
       "1    536365     71053                  WHITE METAL LANTERN         6   \n",
       "2    536365    84406B       CREAM CUPID HEARTS COAT HANGER         8   \n",
       "3    536365    84029G  KNITTED UNION FLAG HOT WATER BOTTLE         6   \n",
       "4    536365    84029E       RED WOOLLY HOTTIE WHITE HEART.         6   \n",
       "\n",
       "      InvoiceDate  UnitPrice  CustomerID         Country  \n",
       "0  12/1/2010 8:26       2.55     17850.0  United Kingdom  \n",
       "1  12/1/2010 8:26       3.39     17850.0  United Kingdom  \n",
       "2  12/1/2010 8:26       2.75     17850.0  United Kingdom  \n",
       "3  12/1/2010 8:26       3.39     17850.0  United Kingdom  \n",
       "4  12/1/2010 8:26       3.39     17850.0  United Kingdom  "
      ]
     },
     "execution_count": 4,
     "metadata": {},
     "output_type": "execute_result"
    }
   ],
   "source": [
    "online=pd.read_csv(\"C:\\\\Users\\\\Nallely Abigail Cruz\\\\Desktop\\\\kaggle\\\\ecommerce\\\\data.csv\",encoding=\"latin1\")\n",
    "online.head() "
   ]
  },
  {
   "cell_type": "markdown",
   "metadata": {},
   "source": [
    "**Description of variables**:\n",
    "The database as well as the description of the eight variables was provided by the [UCLI ML repo](http://archive.ics.uci.edu/ml/datasets/Online+Retail).\n",
    "- \" InvoiceNo: Invoice number. Nominal. A 6-digit integral number uniquely assigned to each transaction. If this code starts with the letter 'c', it indicates a cancellation.\n",
    "- StockCode: Product (item) code. Nominal. A 5-digit integral number uniquely assigned to each distinct product.\n",
    "- Description: Product (item) name. Nominal.\n",
    "- Quantity: The quantities of each product (item) per transaction. Numeric.\n",
    "- InvoiceDate: Invice date and time. Numeric. The day and time when a transaction was generated.\n",
    "- UnitPrice: Unit price. Numeric. Product price per unit in pounds sterling(£).\n",
    "- CustomerID: Customer number. Nominal. A 5-digit integral number uniquely assigned to each customer.\n",
    "- Country: Country name. Nominal. The name of the country where a customer resides.\""
   ]
  },
  {
   "cell_type": "markdown",
   "metadata": {},
   "source": [
    "### Cleaning Data"
   ]
  },
  {
   "cell_type": "markdown",
   "metadata": {},
   "source": [
    "**Checking for duplicates and missing rows**"
   ]
  },
  {
   "cell_type": "code",
   "execution_count": 5,
   "metadata": {},
   "outputs": [
    {
     "name": "stdout",
     "output_type": "stream",
     "text": [
      "5268\n"
     ]
    },
    {
     "data": {
      "text/plain": [
       "InvoiceNo           0\n",
       "StockCode           0\n",
       "Description      1454\n",
       "Quantity            0\n",
       "InvoiceDate         0\n",
       "UnitPrice           0\n",
       "CustomerID     135037\n",
       "Country             0\n",
       "dtype: int64"
      ]
     },
     "execution_count": 5,
     "metadata": {},
     "output_type": "execute_result"
    }
   ],
   "source": [
    "# Calculating number of rows that are duplicated\n",
    "print(online.duplicated(keep=\"first\").sum())\n",
    "online.drop_duplicates(keep=\"first\", inplace=True) #drop duplicate values\n",
    "\n",
    "#Checking for missing rows:\n",
    "online.isnull().sum()"
   ]
  },
  {
   "cell_type": "markdown",
   "metadata": {},
   "source": [
    "We identify 135,037 missing values for the Customer ID. We will eliminate those missing values because we are going to implement a customer segmentation that requires identification of customers."
   ]
  },
  {
   "cell_type": "code",
   "execution_count": 6,
   "metadata": {},
   "outputs": [],
   "source": [
    "online=online[online[\"CustomerID\"].notnull()]"
   ]
  },
  {
   "cell_type": "markdown",
   "metadata": {},
   "source": [
    "**Cleaning InvoiceDate**"
   ]
  },
  {
   "cell_type": "code",
   "execution_count": 7,
   "metadata": {},
   "outputs": [],
   "source": [
    "# Tranforming the date into a datetime format\n",
    "online[\"InvoiceDate\"]=pd.to_datetime(online[\"InvoiceDate\"],format =\"%m/%d/%Y %H:%M\")"
   ]
  },
  {
   "cell_type": "markdown",
   "metadata": {},
   "source": [
    "**Cleaning InvoiceNo**"
   ]
  },
  {
   "cell_type": "code",
   "execution_count": 8,
   "metadata": {},
   "outputs": [
    {
     "data": {
      "text/plain": [
       "Numb    392732\n",
       "C         8872\n",
       "Name: type_invoiceno, dtype: int64"
      ]
     },
     "execution_count": 8,
     "metadata": {},
     "output_type": "execute_result"
    }
   ],
   "source": [
    "import re\n",
    "online[\"type_invoiceno\"]=online[\"InvoiceNo\"].str.extract(r\"([A-Za-z])\")\n",
    "online[\"type_invoiceno\"].fillna(\"Numb\",inplace=True)\n",
    "online.type_invoiceno.value_counts()"
   ]
  },
  {
   "cell_type": "markdown",
   "metadata": {},
   "source": [
    "We identify 2 categories of Invoice No: a) Number, b) C which stands for cancellations. We are going to explore in detail a customer containing a C to confirm how a cancellation is reflected in the other variables. "
   ]
  },
  {
   "cell_type": "code",
   "execution_count": 9,
   "metadata": {},
   "outputs": [
    {
     "data": {
      "text/html": [
       "<div>\n",
       "<style scoped>\n",
       "    .dataframe tbody tr th:only-of-type {\n",
       "        vertical-align: middle;\n",
       "    }\n",
       "\n",
       "    .dataframe tbody tr th {\n",
       "        vertical-align: top;\n",
       "    }\n",
       "\n",
       "    .dataframe thead th {\n",
       "        text-align: right;\n",
       "    }\n",
       "</style>\n",
       "<table border=\"1\" class=\"dataframe\">\n",
       "  <thead>\n",
       "    <tr style=\"text-align: right;\">\n",
       "      <th></th>\n",
       "      <th>InvoiceNo</th>\n",
       "      <th>StockCode</th>\n",
       "      <th>Description</th>\n",
       "      <th>Quantity</th>\n",
       "      <th>InvoiceDate</th>\n",
       "      <th>UnitPrice</th>\n",
       "      <th>CustomerID</th>\n",
       "      <th>Country</th>\n",
       "      <th>type_invoiceno</th>\n",
       "    </tr>\n",
       "  </thead>\n",
       "  <tbody>\n",
       "    <tr>\n",
       "      <td>239</td>\n",
       "      <td>C536391</td>\n",
       "      <td>21484</td>\n",
       "      <td>CHICK GREY HOT WATER BOTTLE</td>\n",
       "      <td>-12</td>\n",
       "      <td>2010-12-01 10:24:00</td>\n",
       "      <td>3.45</td>\n",
       "      <td>17548.0</td>\n",
       "      <td>United Kingdom</td>\n",
       "      <td>C</td>\n",
       "    </tr>\n",
       "    <tr>\n",
       "      <td>165028</td>\n",
       "      <td>550755</td>\n",
       "      <td>22926</td>\n",
       "      <td>IVORY GIANT GARDEN THERMOMETER</td>\n",
       "      <td>4</td>\n",
       "      <td>2011-04-20 12:01:00</td>\n",
       "      <td>5.95</td>\n",
       "      <td>17548.0</td>\n",
       "      <td>United Kingdom</td>\n",
       "      <td>Numb</td>\n",
       "    </tr>\n",
       "    <tr>\n",
       "      <td>177223</td>\n",
       "      <td>C552049</td>\n",
       "      <td>22926</td>\n",
       "      <td>IVORY GIANT GARDEN THERMOMETER</td>\n",
       "      <td>-4</td>\n",
       "      <td>2011-05-06 10:00:00</td>\n",
       "      <td>5.95</td>\n",
       "      <td>17548.0</td>\n",
       "      <td>United Kingdom</td>\n",
       "      <td>C</td>\n",
       "    </tr>\n",
       "    <tr>\n",
       "      <td>237</td>\n",
       "      <td>C536391</td>\n",
       "      <td>21983</td>\n",
       "      <td>PACK OF 12 BLUE PAISLEY TISSUES</td>\n",
       "      <td>-24</td>\n",
       "      <td>2010-12-01 10:24:00</td>\n",
       "      <td>0.29</td>\n",
       "      <td>17548.0</td>\n",
       "      <td>United Kingdom</td>\n",
       "      <td>C</td>\n",
       "    </tr>\n",
       "    <tr>\n",
       "      <td>236</td>\n",
       "      <td>C536391</td>\n",
       "      <td>21984</td>\n",
       "      <td>PACK OF 12 PINK PAISLEY TISSUES</td>\n",
       "      <td>-24</td>\n",
       "      <td>2010-12-01 10:24:00</td>\n",
       "      <td>0.29</td>\n",
       "      <td>17548.0</td>\n",
       "      <td>United Kingdom</td>\n",
       "      <td>C</td>\n",
       "    </tr>\n",
       "    <tr>\n",
       "      <td>238</td>\n",
       "      <td>C536391</td>\n",
       "      <td>21980</td>\n",
       "      <td>PACK OF 12 RED RETROSPOT TISSUES</td>\n",
       "      <td>-24</td>\n",
       "      <td>2010-12-01 10:24:00</td>\n",
       "      <td>0.29</td>\n",
       "      <td>17548.0</td>\n",
       "      <td>United Kingdom</td>\n",
       "      <td>C</td>\n",
       "    </tr>\n",
       "    <tr>\n",
       "      <td>165024</td>\n",
       "      <td>550755</td>\n",
       "      <td>22585</td>\n",
       "      <td>PACK OF 6 BIRDY GIFT TAGS</td>\n",
       "      <td>24</td>\n",
       "      <td>2011-04-20 12:01:00</td>\n",
       "      <td>1.25</td>\n",
       "      <td>17548.0</td>\n",
       "      <td>United Kingdom</td>\n",
       "      <td>Numb</td>\n",
       "    </tr>\n",
       "    <tr>\n",
       "      <td>177224</td>\n",
       "      <td>C552049</td>\n",
       "      <td>22585</td>\n",
       "      <td>PACK OF 6 BIRDY GIFT TAGS</td>\n",
       "      <td>-24</td>\n",
       "      <td>2011-05-06 10:00:00</td>\n",
       "      <td>1.25</td>\n",
       "      <td>17548.0</td>\n",
       "      <td>United Kingdom</td>\n",
       "      <td>C</td>\n",
       "    </tr>\n",
       "    <tr>\n",
       "      <td>235</td>\n",
       "      <td>C536391</td>\n",
       "      <td>22556</td>\n",
       "      <td>PLASTERS IN TIN CIRCUS PARADE</td>\n",
       "      <td>-12</td>\n",
       "      <td>2010-12-01 10:24:00</td>\n",
       "      <td>1.65</td>\n",
       "      <td>17548.0</td>\n",
       "      <td>United Kingdom</td>\n",
       "      <td>C</td>\n",
       "    </tr>\n",
       "    <tr>\n",
       "      <td>241</td>\n",
       "      <td>C536391</td>\n",
       "      <td>22553</td>\n",
       "      <td>PLASTERS IN TIN SKULLS</td>\n",
       "      <td>-24</td>\n",
       "      <td>2010-12-01 10:24:00</td>\n",
       "      <td>1.65</td>\n",
       "      <td>17548.0</td>\n",
       "      <td>United Kingdom</td>\n",
       "      <td>C</td>\n",
       "    </tr>\n",
       "  </tbody>\n",
       "</table>\n",
       "</div>"
      ],
      "text/plain": [
       "       InvoiceNo StockCode                        Description  Quantity  \\\n",
       "239      C536391     21484        CHICK GREY HOT WATER BOTTLE       -12   \n",
       "165028    550755     22926     IVORY GIANT GARDEN THERMOMETER         4   \n",
       "177223   C552049     22926     IVORY GIANT GARDEN THERMOMETER        -4   \n",
       "237      C536391     21983   PACK OF 12 BLUE PAISLEY TISSUES        -24   \n",
       "236      C536391     21984   PACK OF 12 PINK PAISLEY TISSUES        -24   \n",
       "238      C536391     21980  PACK OF 12 RED RETROSPOT TISSUES        -24   \n",
       "165024    550755     22585          PACK OF 6 BIRDY GIFT TAGS        24   \n",
       "177224   C552049     22585          PACK OF 6 BIRDY GIFT TAGS       -24   \n",
       "235      C536391     22556     PLASTERS IN TIN CIRCUS PARADE        -12   \n",
       "241      C536391     22553             PLASTERS IN TIN SKULLS       -24   \n",
       "\n",
       "               InvoiceDate  UnitPrice  CustomerID         Country  \\\n",
       "239    2010-12-01 10:24:00       3.45     17548.0  United Kingdom   \n",
       "165028 2011-04-20 12:01:00       5.95     17548.0  United Kingdom   \n",
       "177223 2011-05-06 10:00:00       5.95     17548.0  United Kingdom   \n",
       "237    2010-12-01 10:24:00       0.29     17548.0  United Kingdom   \n",
       "236    2010-12-01 10:24:00       0.29     17548.0  United Kingdom   \n",
       "238    2010-12-01 10:24:00       0.29     17548.0  United Kingdom   \n",
       "165024 2011-04-20 12:01:00       1.25     17548.0  United Kingdom   \n",
       "177224 2011-05-06 10:00:00       1.25     17548.0  United Kingdom   \n",
       "235    2010-12-01 10:24:00       1.65     17548.0  United Kingdom   \n",
       "241    2010-12-01 10:24:00       1.65     17548.0  United Kingdom   \n",
       "\n",
       "       type_invoiceno  \n",
       "239                 C  \n",
       "165028           Numb  \n",
       "177223              C  \n",
       "237                 C  \n",
       "236                 C  \n",
       "238                 C  \n",
       "165024           Numb  \n",
       "177224              C  \n",
       "235                 C  \n",
       "241                 C  "
      ]
     },
     "execution_count": 9,
     "metadata": {},
     "output_type": "execute_result"
    }
   ],
   "source": [
    "# we choose one of the Customer ID which invoice contains a \"C\" to explore:\n",
    "x=online[online[\"CustomerID\"]==17548]\n",
    "x.sort_values([\"Description\",\"InvoiceDate\",\"InvoiceNo\"]).head(10)"
   ]
  },
  {
   "cell_type": "markdown",
   "metadata": {},
   "source": [
    "For this customer, we see that each \"Description\" is duplicated. It seems the customer ordered a certain quantity (Quantity >0) and then cancelled it (Quantity <0). Two elements support this hypothesis: 1) For the same item, \"Quantity\" is positive and changes to negative. 2)When the \"Quantity\" is positive, the date is smaller or the same than for the negative quantities. "
   ]
  },
  {
   "cell_type": "code",
   "execution_count": 10,
   "metadata": {},
   "outputs": [],
   "source": [
    "# Creating a variable with the amount of cancellations: (NONE cancellation and at least one)\n",
    "online[\"type_invoice_numeric\"]=0 # invoice where all the values are numbers \n",
    "online.loc[online.type_invoiceno == \"C\", \"type_invoice_numeric\"] = 1 # invoice that was cancelled\n",
    "# Variable that contains the number of cancellations of the Customer ID\n",
    "online[\"any_cancel\"]=online.groupby(\"CustomerID\")[\"type_invoice_numeric\"].transform(\"sum\")"
   ]
  },
  {
   "cell_type": "markdown",
   "metadata": {},
   "source": [
    "**Quantity**"
   ]
  },
  {
   "cell_type": "code",
   "execution_count": 11,
   "metadata": {},
   "outputs": [
    {
     "data": {
      "text/plain": [
       "count    401604.000000\n",
       "mean         12.183273\n",
       "std         250.283037\n",
       "min      -80995.000000\n",
       "25%           2.000000\n",
       "50%           5.000000\n",
       "75%          12.000000\n",
       "max       80995.000000\n",
       "Name: Quantity, dtype: float64"
      ]
     },
     "execution_count": 11,
     "metadata": {},
     "output_type": "execute_result"
    }
   ],
   "source": [
    "# We analyze the number of units ordered: \n",
    "online[\"Quantity\"].describe()"
   ]
  },
  {
   "cell_type": "code",
   "execution_count": 12,
   "metadata": {},
   "outputs": [
    {
     "data": {
      "text/plain": [
       "<matplotlib.axes._subplots.AxesSubplot at 0x2152390d6c8>"
      ]
     },
     "execution_count": 12,
     "metadata": {},
     "output_type": "execute_result"
    },
    {
     "data": {
      "image/png": "[encoded data removed]",
      "text/plain": [
       "<Figure size 432x288 with 1 Axes>"
      ]
     },
     "metadata": {
      "needs_background": "light"
     },
     "output_type": "display_data"
    }
   ],
   "source": [
    "# When looking at the distibution of quantities purchased, we see the quantities oscillating between -80000 to +80000.\n",
    "# Probably, those quantities were purchased and cancelled. \n",
    "sns.distplot(online[\"Quantity\"],kde=False)"
   ]
  },
  {
   "cell_type": "code",
   "execution_count": 13,
   "metadata": {},
   "outputs": [],
   "source": [
    "# Usually the outliers are defined by 3 standard deviations. However, if most of the clients are wholesalers, it is possible they might have ordered\n",
    "# big quantities. \n",
    "online[\"zscore\"]=(online[\"Quantity\"]-online[\"Quantity\"].mean())/online[\"Quantity\"].std(ddof=0) \n",
    "\n",
    "# We are gonna drop quantities that has a zscore beyond 20 (7 customers)\n",
    "# This stands for 7 customers that order as minimum -80,000 and a maximum of 80000\n",
    "online[\"outliers\"]=(abs(online[\"zscore\"])>20).astype(int)\n",
    "online.drop(online[online[\"outliers\"]==1].index,inplace=True)"
   ]
  },
  {
   "cell_type": "markdown",
   "metadata": {},
   "source": [
    "### Feature engineer"
   ]
  },
  {
   "cell_type": "markdown",
   "metadata": {},
   "source": [
    "**Monetary value**"
   ]
  },
  {
   "cell_type": "code",
   "execution_count": 14,
   "metadata": {},
   "outputs": [],
   "source": [
    "online[\"monetary_value\"]=online[\"Quantity\"]*online[\"UnitPrice\"]"
   ]
  },
  {
   "cell_type": "markdown",
   "metadata": {},
   "source": [
    "**Region of residence** (close far from UK)"
   ]
  },
  {
   "cell_type": "code",
   "execution_count": 15,
   "metadata": {},
   "outputs": [
    {
     "data": {
      "text/plain": [
       "(37, array(['United Kingdom', 'France', 'Australia', 'Netherlands', 'Germany',\n",
       "        'Norway', 'EIRE', 'Switzerland', 'Spain', 'Poland', 'Portugal',\n",
       "        'Italy', 'Belgium', 'Lithuania', 'Japan', 'Iceland',\n",
       "        'Channel Islands', 'Denmark', 'Cyprus', 'Sweden', 'Austria',\n",
       "        'Israel', 'Finland', 'Greece', 'Singapore', 'Lebanon',\n",
       "        'United Arab Emirates', 'Saudi Arabia', 'Czech Republic', 'Canada',\n",
       "        'Unspecified', 'Brazil', 'USA', 'European Community', 'Bahrain',\n",
       "        'Malta', 'RSA'], dtype=object))"
      ]
     },
     "execution_count": 15,
     "metadata": {},
     "output_type": "execute_result"
    }
   ],
   "source": [
    "# Identifying number of coutries: 37 countries where customers come from\n",
    "online.Country.nunique(),online.Country.unique()"
   ]
  },
  {
   "cell_type": "code",
   "execution_count": 16,
   "metadata": {},
   "outputs": [],
   "source": [
    "#Changing the abbreviations of the country: \n",
    "abbreviation={\"EIRE\":\"Ireland\",\"USA\":\"United States of America\",\"RSA\":\"South Africa\",'Czech Republic': \"Czechia\"}\n",
    "online.replace({\"Country\":abbreviation},inplace=True)\n",
    "countries=online.Country.unique()#list of the countries where the clients live"
   ]
  },
  {
   "cell_type": "code",
   "execution_count": 17,
   "metadata": {},
   "outputs": [
    {
     "data": {
      "text/plain": [
       "United Kingdom    88.825642\n",
       "Germany            2.360570\n",
       "France             2.110319\n",
       "Ireland            1.861314\n",
       "Spain              0.629485\n",
       "Netherlands        0.590391\n",
       "Belgium            0.515192\n",
       "Switzerland        0.467383\n",
       "Portugal           0.366287\n",
       "Australia          0.313249\n",
       "Name: Country, dtype: float64"
      ]
     },
     "execution_count": 17,
     "metadata": {},
     "output_type": "execute_result"
    }
   ],
   "source": [
    "# Showing first 10 countries where customers live:\n",
    "countries_customers_live=online.Country.value_counts(normalize=True)*100\n",
    "countries_customers_live[:10] "
   ]
  },
  {
   "cell_type": "markdown",
   "metadata": {},
   "source": [
    "Most of the customers are located in UK. \n",
    "We are gonna consider a variable of the distance where the customers live from UK to see if there are variations among the number of clients."
   ]
  },
  {
   "cell_type": "code",
   "execution_count": 18,
   "metadata": {},
   "outputs": [],
   "source": [
    "# We are gonna extract the coordinates of the countries were customers live: \n",
    "# Access built-in Natural Earth data via GeoPandas\n",
    "world = gpd.read_file(gpd.datasets.get_path('naturalearth_lowres'))\n",
    "\n",
    "# Get a list (dataframe) of country centroids:list of 177 countries\n",
    "centroids = world.centroid\n",
    "centroid_list = pd.concat([world.name, centroids], axis=1)\n",
    "\n",
    "#Getting the coordinates: \n",
    "centroid_list[\"coord\"]=centroid_list[0].astype(str).str.split(\" \")\n",
    "centroid_list[\"longitude\"]=centroid_list[\"coord\"].apply(lambda x: x[1].replace(\"(\",\"\")).astype(float)\n",
    "centroid_list[\"latitude\"]=centroid_list[\"coord\"].apply(lambda x: x[2].replace(\")\",\"\")).astype(float)\n",
    "centroid_list.drop(columns=[0,\"coord\"],inplace=True)"
   ]
  },
  {
   "cell_type": "code",
   "execution_count": 19,
   "metadata": {},
   "outputs": [],
   "source": [
    "# Selecting the coordinates only for the 37 countries or places where customers live:\n",
    "final_coordinates=centroid_list[centroid_list['name'].isin(countries)].copy() #filtering by 37 places \n",
    "final_coordinates['coordinates'] = list(zip(final_coordinates.latitude, final_coordinates.longitude)) #tuple of coordinates\n",
    "\n",
    "#Calculating distance in km between UK and the rest of the countries\n",
    "final_coordinates[\"distance\"]=final_coordinates['coordinates'].apply(lambda x:geopy.distance.distance((53.914773,-2.853135),x).km)\n",
    "final_coordinates=final_coordinates.drop(columns=[\"longitude\",\"latitude\",\"coordinates\"])"
   ]
  },
  {
   "cell_type": "code",
   "execution_count": 20,
   "metadata": {
    "scrolled": true
   },
   "outputs": [],
   "source": [
    "# Attribute distances to the initial dataframe \"Online\"\n",
    "dic_distances=pd.Series(final_coordinates.distance.values,index=final_coordinates.name).to_dict()\n",
    "online[\"distance_uk\"]=online[\"Country\"].map(dic_distances)\n",
    "\n",
    "# Attributing distance to channel islands (this region didnt appear in the original 177 countries)\n",
    "online.loc[online[\"Country\"]==\"Channel Islands\",\"distance_uk\"]=663"
   ]
  },
  {
   "cell_type": "code",
   "execution_count": 21,
   "metadata": {},
   "outputs": [
    {
     "data": {
      "text/plain": [
       "cat_distance_uk  Country                 \n",
       "1-1000           Belgium                       25\n",
       "                 Channel Islands                9\n",
       "                 Denmark                        9\n",
       "                 Germany                       95\n",
       "                 Ireland                        3\n",
       "                 Netherlands                    9\n",
       "1001-1500        Austria                       11\n",
       "                 Czechia                        1\n",
       "                 France                        87\n",
       "                 Poland                         6\n",
       "                 Sweden                         8\n",
       "                 Switzerland                   21\n",
       "1501-2000        Iceland                        1\n",
       "                 Italy                         15\n",
       "                 Lithuania                      1\n",
       "                 Norway                        10\n",
       "                 Portugal                      19\n",
       "                 Spain                         31\n",
       "2001-3000        Finland                       12\n",
       "                 Greece                         4\n",
       "3001-5000        Cyprus                         8\n",
       "                 Israel                         4\n",
       "                 Lebanon                        1\n",
       "More than 5000   Australia                      9\n",
       "                 Brazil                         1\n",
       "                 Canada                         4\n",
       "                 Japan                          8\n",
       "                 Saudi Arabia                   1\n",
       "                 South Africa                   1\n",
       "                 United Arab Emirates           2\n",
       "                 United States of America       4\n",
       "United Kingdom   United Kingdom              3948\n",
       "unknown          Bahrain                        2\n",
       "                 European Community             1\n",
       "                 Malta                          2\n",
       "                 Singapore                      1\n",
       "                 Unspecified                    4\n",
       "Name: CustomerID, dtype: int64"
      ]
     },
     "execution_count": 21,
     "metadata": {},
     "output_type": "execute_result"
    }
   ],
   "source": [
    "# Creating a variable that classifies countries by distances:\n",
    "def distance_uk(x):\n",
    "    if x>=0 and x<1:\n",
    "        return \"United Kingdom\"\n",
    "    if x>=1 and x<=1000:\n",
    "        return \"1-1000\"\n",
    "    if x>1000 and x<=1500:\n",
    "        return \"1001-1500\"\n",
    "    if x>1500 and x<=2000:\n",
    "        return \"1501-2000\"\n",
    "    if x>2000 and x<=3000:\n",
    "        return \"2001-3000\"\n",
    "    if x>3000 and x<=5000:\n",
    "        return \"3001-5000\"\n",
    "    if pd.isnull(x):\n",
    "        return \"unknown\"\n",
    "    else: \n",
    "        return \"More than 5000\"\n",
    "    \n",
    "online[\"cat_distance_uk\"]=online.distance_uk.apply(lambda x: distance_uk(x))\n",
    "#identifying number of customers by distance to Uk and by county: \n",
    "online.groupby([\"cat_distance_uk\",\"Country\"])[\"CustomerID\"].nunique()"
   ]
  },
  {
   "cell_type": "markdown",
   "metadata": {},
   "source": [
    "For the purposes of this analysis, we are gonna use all the variables except for the StockCode and Description. "
   ]
  },
  {
   "cell_type": "code",
   "execution_count": 22,
   "metadata": {},
   "outputs": [],
   "source": [
    "# Droping variables that are not gonna be used for the analysis: \n",
    "online.drop(columns=[\"StockCode\",\"Description\"],inplace=True)\n",
    "# Copy a dataframe that will be modified for the analysis: \n",
    "onlinewc=online.copy()"
   ]
  },
  {
   "cell_type": "markdown",
   "metadata": {},
   "source": [
    "# 2. Exploratory Data Analysis"
   ]
  },
  {
   "cell_type": "markdown",
   "metadata": {},
   "source": [
    "## 2. 1 Business Trends "
   ]
  },
  {
   "cell_type": "markdown",
   "metadata": {},
   "source": [
    "**Sales revenue and growth year**"
   ]
  },
  {
   "cell_type": "code",
   "execution_count": 23,
   "metadata": {},
   "outputs": [],
   "source": [
    "onlinewc[\"InvoiceDate\"]\n",
    "onlinewc['date_column_trunc'] = online[\"InvoiceDate\"].apply(lambda s: dt.date(s.year, s.month, 1))\n",
    "# Calculating number of sales\n",
    "mv_year_month=onlinewc.groupby(['date_column_trunc'],as_index=False)[\"monetary_value\"].sum().round(2) \n",
    "#growth rate\n",
    "mv_year_month[\"pct\"]=round(mv_year_month[\"monetary_value\"].pct_change()*100,2)\n",
    "mv_year_month.set_index([\"date_column_trunc\"],inplace=True)"
   ]
  },
  {
   "cell_type": "code",
   "execution_count": 67,
   "metadata": {},
   "outputs": [
    {
     "data": {
      "text/plain": [
       "Text(0.5, 1.0, 'Sales revenue and Growth Year, 2010/12 to 2011/12')"
      ]
     },
     "execution_count": 67,
     "metadata": {},
     "output_type": "execute_result"
    },
    {
     "data": {
      "image/png": "[encoded data removed]",
      "text/plain": [
       "<Figure size 432x288 with 2 Axes>"
      ]
     },
     "metadata": {
      "needs_background": "light"
     },
     "output_type": "display_data"
    }
   ],
   "source": [
    "#visualizing number of sales and growth rate:\n",
    "fig, ax1 = plt.subplots()\n",
    "ax1.bar(mv_year_month.index, mv_year_month[\"monetary_value\"],color='b',width=20)\n",
    "ax2 = ax1.twinx()\n",
    "ax2.plot(mv_year_month.index, mv_year_month[\"pct\"], color='r')\n",
    "ax1.set_xlabel('Year,month')\n",
    "ax1.set_ylabel('Monetary Value (£)')\n",
    "ax2.set_ylabel('Growth rate(%)')\n",
    "ax1.set_xticks(mv_year_month.index)\n",
    "for tick in ax1.get_xticklabels():\n",
    "    tick.set_rotation(90)\n",
    "ax1.set_title('Sales revenue and Growth Year, 2010/12 to 2011/12')"
   ]
  },
  {
   "cell_type": "markdown",
   "metadata": {},
   "source": [
    "This graph presents the sales revenue and growth rate from 2010/12 to 2011/12. Sales were higher during the last three months preceding December in comparison to the previous eight months.\n",
    "The drastic drop in December is explained by the fact that the last observation in the database occurred on December 9th, 2011. We are missing the sales from the complete month and we are only observing the first week. "
   ]
  },
  {
   "cell_type": "markdown",
   "metadata": {},
   "source": [
    "**How many transactions do we have during 12/2010 and 12/2011?** "
   ]
  },
  {
   "cell_type": "code",
   "execution_count": 25,
   "metadata": {},
   "outputs": [
    {
     "name": "stdout",
     "output_type": "stream",
     "text": [
      "{'no_transactions': 22184, 'total purchases': 18533, 'percentage cancellations': 16.46}\n"
     ]
    }
   ],
   "source": [
    "# grouping by InvoiceNo (unique transaction)\n",
    "number_transactions=onlinewc.groupby([\"InvoiceNo\"],as_index=False)[\"type_invoice_numeric\"].sum()\n",
    "total_transactions=len(number_transactions) # number of rows\n",
    "purchases=len(number_transactions[number_transactions[\"type_invoice_numeric\"]==0])# 0 means: no cancellation\n",
    "percentage_cancellations=((total_transactions-purchases)/total_transactions)*100\n",
    "\n",
    "print({\"no_transactions\":total_transactions,\"total purchases\":purchases, \"percentage cancellations\": round(percentage_cancellations,2)})"
   ]
  },
  {
   "cell_type": "markdown",
   "metadata": {},
   "source": [
    "**How many purchases and cancellations were made per each month?**"
   ]
  },
  {
   "cell_type": "code",
   "execution_count": 26,
   "metadata": {},
   "outputs": [],
   "source": [
    "#we are gonna create a dictionnary where each entry is a copy of the dataframe for each month: \n",
    "year=onlinewc[\"date_column_trunc\"].unique().tolist()\n",
    "e_ym = {}\n",
    "for i in year:\n",
    "    df_0=onlinewc[onlinewc.date_column_trunc==i]\n",
    "    e_ym[i]=df_0"
   ]
  },
  {
   "cell_type": "code",
   "execution_count": 27,
   "metadata": {},
   "outputs": [],
   "source": [
    "transactions=[]\n",
    "total_purchases=[]\n",
    "pct_cancellations=[]\n",
    "\n",
    "for i in year:\n",
    "    number_transactions=e_ym[i].groupby([\"InvoiceNo\"],as_index=False)[\"type_invoice_numeric\"].sum()\n",
    "    total_transactions=len(number_transactions) # number of rows\n",
    "    purchases=len(number_transactions[number_transactions[\"type_invoice_numeric\"]==0])# 0 means: no cancellation\n",
    "    percentage_cancellations=((total_transactions-purchases)/total_transactions)*100\n",
    "    transactions.append(total_transactions)\n",
    "    total_purchases.append(purchases)\n",
    "    pct_cancellations.append(round(percentage_cancellations,2))"
   ]
  },
  {
   "cell_type": "code",
   "execution_count": 28,
   "metadata": {},
   "outputs": [],
   "source": [
    "table=pd.DataFrame({\"transactions\":transactions,\"purchases\":total_purchases,\"%cancellations\":pct_cancellations},index=year)"
   ]
  },
  {
   "cell_type": "code",
   "execution_count": 29,
   "metadata": {},
   "outputs": [
    {
     "data": {
      "image/png": "[encoded data removed]",
      "text/plain": [
       "<Figure size 432x288 with 2 Axes>"
      ]
     },
     "metadata": {
      "needs_background": "light"
     },
     "output_type": "display_data"
    }
   ],
   "source": [
    "fig, ax1 = plt.subplots()\n",
    "ax1.bar(table.index, table[\"purchases\"], color='b',width=20)\n",
    "ax2 = ax1.twinx()\n",
    "ax2.plot(table.index, table[\"%cancellations\"], color='r')\n",
    "ax1.set_xlabel('Year,month')\n",
    "ax1.set_ylabel('Number of purchases')\n",
    "ax2.set_ylabel('% Cancellations)')\n",
    "ax1.set_xticks(table.index)\n",
    "for tick in ax1.get_xticklabels():\n",
    "    tick.set_rotation(90)\n",
    "ax1.set_title('Number of purchases and % cancellations, 2010/12 to 2011/12')\n",
    "\n",
    "plt.show()"
   ]
  },
  {
   "cell_type": "markdown",
   "metadata": {},
   "source": [
    "One element underlying the trends in the sales revenue are the transactions, which are integrated by purchases and cancellations. \n",
    "- This online retail performed better by the end of the year in comparison to the previous eight months. Two forces constributed: an increase in the number of purchases and a decrease in the percentage of cancellations. \n",
    "- This positive trend might be associated with the christmas holiday season which might increase the purchases of all-occasion gifts."
   ]
  },
  {
   "cell_type": "markdown",
   "metadata": {},
   "source": [
    "**Trends in the number of customers over time**"
   ]
  },
  {
   "cell_type": "code",
   "execution_count": 30,
   "metadata": {},
   "outputs": [],
   "source": [
    "# grouping the number of unique customers by year and month\n",
    "y_m_c=onlinewc.groupby(['date_column_trunc'],as_index=True)[\"CustomerID\"].nunique()\n",
    "y_m_c_pct=round(y_m_c.pct_change()*100,2)\n",
    "c=pd.concat([y_m_c,y_m_c_pct],axis=1).reset_index()\n",
    "#rename columns \"Customer ID\"\n",
    "cols=pd.Series(c.columns)\n",
    "for dup in cols[cols.duplicated()].unique(): \n",
    "    cols[cols[cols == dup].index.values.tolist()] = [dup + '.' + str(i) if i != 0 else dup for i in range(sum(cols == dup))]\n",
    "# rename the columns with the cols list.\n",
    "c.columns=cols\n",
    "c=c.rename(columns={\"CustomerID.1\":\"Customers_pct\"}).set_index(\"date_column_trunc\")"
   ]
  },
  {
   "cell_type": "code",
   "execution_count": 31,
   "metadata": {},
   "outputs": [
    {
     "data": {
      "image/png": "[encoded data removed]",
      "text/plain": [
       "<Figure size 432x288 with 2 Axes>"
      ]
     },
     "metadata": {
      "needs_background": "light"
     },
     "output_type": "display_data"
    }
   ],
   "source": [
    "fig, ax1 = plt.subplots()\n",
    "ax1.bar(c.index, c[\"CustomerID\"], color='b',width=20)\n",
    "ax2 = ax1.twinx()\n",
    "ax2.plot(c.index, c[\"Customers_pct\"], color='r')\n",
    "ax1.set_xlabel('Year,month')\n",
    "ax1.set_ylabel('Number of customers')\n",
    "ax2.set_ylabel('Growth rate(%)')\n",
    "ax1.set_xticks(c.index)\n",
    "for tick in ax1.get_xticklabels():\n",
    "    tick.set_rotation(90)\n",
    "ax1.set_title('Number of customers and growth rate %, 2010/12 to 2011/12')\n",
    "plt.show()"
   ]
  },
  {
   "cell_type": "markdown",
   "metadata": {},
   "source": [
    "We noticed that the number of customers within each month followed a similar trend to the sales revenue.The average number of clients was 1479 during the last three months of 2011, which was 35% higher than the average of customers from the previus eight months. "
   ]
  },
  {
   "cell_type": "markdown",
   "metadata": {},
   "source": [
    "## 2. 2. Analyzing customers trends\n",
    "\n",
    "In the previous section, we identified two factors associated with the trends on sales: the transactions and the number of clients. It seems that by the end of 2011, there was an increase in sales that might be explained by the increase in the number of customers. If we want to continue increasing the revenue in 2012, it is important to learn from our customers. \n",
    "We are going to acquire insights into their demographics and how they behave."
   ]
  },
  {
   "cell_type": "markdown",
   "metadata": {},
   "source": [
    "### Customers demographics"
   ]
  },
  {
   "cell_type": "markdown",
   "metadata": {},
   "source": [
    "**Where do the customers come from?**"
   ]
  },
  {
   "cell_type": "code",
   "execution_count": 32,
   "metadata": {},
   "outputs": [
    {
     "data": {
      "text/plain": [
       "<matplotlib.axes._subplots.AxesSubplot at 0x215256ef848>"
      ]
     },
     "execution_count": 32,
     "metadata": {},
     "output_type": "execute_result"
    },
    {
     "data": {
      "image/png": "[encoded data removed]",
      "text/plain": [
       "<Figure size 432x288 with 1 Axes>"
      ]
     },
     "metadata": {
      "needs_background": "light"
     },
     "output_type": "display_data"
    }
   ],
   "source": [
    "#Analyzing per country of origin: \n",
    "c_per_country=onlinewc.groupby([\"Country\"])[\"CustomerID\"].nunique().sort_values(ascending=False).reset_index()\n",
    "c_per_country[\"c_percentage\"]=c_per_country[\"CustomerID\"].apply(lambda x: x/sum(c_per_country[\"CustomerID\"]))*100\n",
    "\n",
    "#identifying top 5 and the rest of the countries/regions: \n",
    "top_5_countries=c_per_country.iloc[:5,[0,2]]\n",
    "other_countries_sum=c_per_country.iloc[5:,2].sum()\n",
    "table_f=top_5_countries.append({'Country' : 'Other coutries/regions', 'c_percentage' : other_countries_sum} , ignore_index=True)\n",
    "table_f=table_f.set_index(\"Country\").round(2)\n",
    "table_f.plot.barh(title=\"Top 6 of customers by their country/region of origin \", legend=None)"
   ]
  },
  {
   "cell_type": "markdown",
   "metadata": {},
   "source": [
    "We present the top 5 countries where our clients come from.   \n",
    "- 90% of clients come from the United Kingdom. This number makes sense since the retailer is based in this region. \n",
    "- Germany, France, Spain and Belgium together represent 5.4% of the customers.  \n",
    "- The remaining 4.6% comes from 32 other countries outside the UK. \n",
    "This suggets that countries located close to the United Kingdom might be more likely to make a purchase. We are gonna group our customers by distance in kilometers to the United Kingdom. "
   ]
  },
  {
   "cell_type": "code",
   "execution_count": 33,
   "metadata": {},
   "outputs": [
    {
     "data": {
      "text/plain": [
       "Text(0, 0.5, 'Distance in km from UK')"
      ]
     },
     "execution_count": 33,
     "metadata": {},
     "output_type": "execute_result"
    },
    {
     "data": {
      "image/png": "[encoded data removed]",
      "text/plain": [
       "<Figure size 432x288 with 1 Axes>"
      ]
     },
     "metadata": {
      "needs_background": "light"
     },
     "output_type": "display_data"
    }
   ],
   "source": [
    "# analyzing per distance to UK: \n",
    "c_per_distance=onlinewc.groupby([\"cat_distance_uk\"])[\"CustomerID\"].nunique().sort_values(ascending=False).reset_index()\n",
    "c_per_distance[\"c_percentage\"]=c_per_distance[\"CustomerID\"].apply(lambda x: x/sum(c_per_distance[\"CustomerID\"]))*100\n",
    "c_per_distance=c_per_distance.round(2)\n",
    "\n",
    "top_5_regions=c_per_distance.iloc[:4,[0,2]]\n",
    "other_regions_sum=c_per_distance.iloc[4:,2].sum()\n",
    "table_rf=top_5_regions.append({'cat_distance_uk' : 'Other countries/regions', 'c_percentage' : other_regions_sum},ignore_index=True)\n",
    "\n",
    "table_rf.set_index(\"cat_distance_uk\").plot.barh(title=\" Distribution (%) of clients according to their distance (km) from UK\", legend=None)\n",
    "plt.xlabel('Customers (%)')\n",
    "plt.ylabel('Distance in km from UK')\n"
   ]
  },
  {
   "cell_type": "markdown",
   "metadata": {},
   "source": [
    "- 90% of clients come from the United Kingdom and 8% live in a country situated between 1000 and 2000 km from the United Kingdom. A slighlty percentage of the clients live in a country placed more than 2000 km from the UK. "
   ]
  },
  {
   "cell_type": "markdown",
   "metadata": {},
   "source": [
    "### Customers behaviour"
   ]
  },
  {
   "cell_type": "markdown",
   "metadata": {},
   "source": [
    "**Where do the main sales come from?**"
   ]
  },
  {
   "cell_type": "code",
   "execution_count": 34,
   "metadata": {},
   "outputs": [
    {
     "data": {
      "text/plain": [
       "Text(0.5, 0, 'Sales revenue(%)')"
      ]
     },
     "execution_count": 34,
     "metadata": {},
     "output_type": "execute_result"
    },
    {
     "data": {
      "image/png": "[encoded data removed]",
      "text/plain": [
       "<Figure size 432x288 with 1 Axes>"
      ]
     },
     "metadata": {
      "needs_background": "light"
     },
     "output_type": "display_data"
    }
   ],
   "source": [
    "# Country of residence: \n",
    "sells_distance=onlinewc.groupby([\"Country\"])[\"monetary_value\"].sum()\n",
    "sells_distance_perc=sells_distance/sum(sells_distance)*100\n",
    "sells_distance_perc=round(sells_distance_perc,2).sort_values(ascending=False)\n",
    "sells_distance_perc.iloc[:6].plot.barh(title=\"Top 6 of the sales revenue (%) by country\")\n",
    "plt.xlabel('Sales revenue(%)')"
   ]
  },
  {
   "cell_type": "markdown",
   "metadata": {},
   "source": [
    "##### In this chart, we present the 6 countries in which the monetary income (%) is the highest among the 37 countries where customers live. \n",
    "- 85 % of the sales revenue come from customers that live in the United Kingdom. \n",
    "- 9% of the customers live in a country from Europe: 4% in Netherlands, 3% live in Germany, 2% live in France. \n",
    "- Surprisingly, 2% live in Autralia which is the same percentage of clients living in France.  \n",
    "- The 4% of remaining customers live in the rest of the other 31 countries "
   ]
  },
  {
   "cell_type": "code",
   "execution_count": 35,
   "metadata": {},
   "outputs": [
    {
     "data": {
      "text/plain": [
       "Text(0, 0.5, 'Distance in km from UK')"
      ]
     },
     "execution_count": 35,
     "metadata": {},
     "output_type": "execute_result"
    },
    {
     "data": {
      "image/png": "[encoded data removed]",
      "text/plain": [
       "<Figure size 432x288 with 1 Axes>"
      ]
     },
     "metadata": {
      "needs_background": "light"
     },
     "output_type": "display_data"
    }
   ],
   "source": [
    "#Region of residence: \n",
    "sells_distance=onlinewc.groupby(\"cat_distance_uk\")[\"monetary_value\"].sum()\n",
    "sells_distance_perc=sells_distance/sum(sells_distance)*100\n",
    "sells_distance_perc=round(sells_distance_perc,2).sort_values(ascending=False).reset_index()\n",
    "\n",
    "other_regions_sum=sells_distance_perc.iloc[[3,5,6,7],1].sum()\n",
    "table=sells_distance_perc.iloc[[0,1,2,4],:].append({'cat_distance_uk' : 'More than 2000', 'monetary_value' : other_regions_sum},ignore_index=True).set_index(\"cat_distance_uk\")\n",
    "\n",
    "table.plot.barh(title=\" Distribution (%) of sales revenue by distance from UK\",legend=None)\n",
    "plt.xlabel('Sales revenue (%)')\n",
    "plt.ylabel('Distance in km from UK')"
   ]
  },
  {
   "cell_type": "markdown",
   "metadata": {},
   "source": [
    "Grouping the customers by their distance in kilometers to the United Kingdom shows that 14% of the customers live in a range from 1 to 2000 km, which corresponds to the countries located in Europe. \n",
    "The customers which country is located more than 2000 km away from the UK have a slightly participation from the total sales (3%). "
   ]
  },
  {
   "cell_type": "markdown",
   "metadata": {},
   "source": [
    "**When are the transactions more likely to be done?**"
   ]
  },
  {
   "cell_type": "code",
   "execution_count": 36,
   "metadata": {},
   "outputs": [],
   "source": [
    "purchases=onlinewc[onlinewc.type_invoice_numeric==0].copy()\n",
    "purchases[\"purchases\"]=purchases.InvoiceDate.dt.dayofweek\n",
    "purhases_dow=purchases[\"purchases\"].value_counts(normalize=True).sort_index()*100"
   ]
  },
  {
   "cell_type": "code",
   "execution_count": 37,
   "metadata": {},
   "outputs": [
    {
     "data": {
      "text/plain": [
       "<matplotlib.axes._subplots.AxesSubplot at 0x2152da31b48>"
      ]
     },
     "execution_count": 37,
     "metadata": {},
     "output_type": "execute_result"
    },
    {
     "data": {
      "image/png": "[encoded data removed]",
      "text/plain": [
       "<Figure size 432x288 with 1 Axes>"
      ]
     },
     "metadata": {
      "needs_background": "light"
     },
     "output_type": "display_data"
    }
   ],
   "source": [
    "cancellation=onlinewc[onlinewc.type_invoice_numeric==1].copy()\n",
    "cancellation[\"cancellations\"]=cancellation.InvoiceDate.dt.dayofweek\n",
    "cancellation_dow=cancellation[\"cancellations\"].value_counts(normalize=True).sort_index()*100\n",
    "\n",
    "day_week_transactions=pd.concat([purhases_dow,cancellation_dow], axis=1).round(2)\n",
    "day_week_transactions.rename(index={0:\"Monday\",1:\"Tuesday\",2:\"Wednesday\",3:\"Thursday\",4:\"Friday\",5:\"Saturday\",6:\"Sunday\"},inplace=True)\n",
    "\n",
    "day_week_transactions.plot.bar(title=\"Distribution(%) in purchases and cancellations according to the day of the week\")"
   ]
  },
  {
   "cell_type": "markdown",
   "metadata": {},
   "source": [
    "In the previous graph, we observed the percentage of purchases and cancellations made during the week. \n",
    "- One quarter of the cancellations are made on Thursday, whereas only 5% are made on Sunday. \n",
    "- There are no transactions on Saturday. \n",
    "- For the rest of the days, the percentages between purchases and cancellations are similar. "
   ]
  },
  {
   "cell_type": "markdown",
   "metadata": {},
   "source": [
    "# 3. Customer segmentation"
   ]
  },
  {
   "cell_type": "markdown",
   "metadata": {},
   "source": [
    "One way to continue increasing sales revenue is by focusing on the customer retention. According to a study made by [Bain & Company](https://www.retentionscience.com/blog/customer-retention-should-outweigh-customer-acquisition/), increasing the customer retention by 5% can lead to an increase in profits of 25% – 95%, and the likelihood of converting an existing customer into a repeat customer is 60% – 70%, while the probability of converting a new lead is 5% – 20%, at best. \n",
    "\n",
    "So far, we know that most of the customers come from the United Kingdom. We would like to identify other metrics that let us identify our retention rates, and who are the customers that buy more and less. By doing this, we could target specific offers according to their characteristics. We are going to perform a customer segmentation defined as the process of dividing the customers into different groups based on shared characteristics. We are going to perform a **cohort or segment analysis** and a **Recency Frequency Model (RFM model)**. For both analyses, we are going to base our work on the course Customer Segmentation Analysis in Python instructed by Karolis Urbonas on [DataCamp](https://www.datacamp.com/courses/customer-segmentation-in-python).\n",
    "\n",
    "We are going to eliminate the invoice cancellations, which means the quantities were negative. This step is important for the next analysis in order to effectively analyse customer behaviour related to purchases.  "
   ]
  },
  {
   "cell_type": "code",
   "execution_count": 38,
   "metadata": {},
   "outputs": [],
   "source": [
    "onlinewc = onlinewc[onlinewc[\"Quantity\"]>0].copy()"
   ]
  },
  {
   "cell_type": "markdown",
   "metadata": {},
   "source": [
    "## 3.1 Cohort analysis\n",
    "\n",
    "Cohort or segment analysis is one way to track and analyze buyer behavior and its effects on your ecommerce business over time. A cohort is simply a subset of users grouped by shared characteristics. We are going to define \"monthly_cohorts\" that refers to a subset of customers segmented by aquisition month (i.e. the first month in which a client made a transaction). A “cohort analysis,” then, simply allows us to compare the behavior and metrics of different cohorts over time. We need to define and calculate two elements for the cohort analysis:  \n",
    "\n",
    "- **Cohort month**: Defines the month and year when the customers did their first transaction.\n",
    "- **Period**: period (month) when we are observing the cohort. Each cohort is followed/observed for a particular number of periods. 0: month when we start observing the cohort, 1: first period (month), 2: second period (month) and so on. \n",
    "- Ex1. Cohort 2011/12 has been observed 0 periods, which means only in 2011/12. We don't have observations of the number of customers for the following years because the last observation of our data is from 9/12/2011.\n",
    "- Ex2. Cohort 2011/09: We have historical data of clients belonging to this cohort for the period when they started purchasing (0 period or 2011/09), 1 period (2011/10), 2 period (2011/11) and 3 period (2011/12)."
   ]
  },
  {
   "cell_type": "code",
   "execution_count": 39,
   "metadata": {},
   "outputs": [],
   "source": [
    "# Defining monthly cohorts: \n",
    "def get_month(x): return dt.datetime(x.year,x.month,1)\n",
    "onlinewc[\"Invoice_month\"]=onlinewc[\"InvoiceDate\"].apply(get_month)\n",
    "grouping=onlinewc.groupby(\"CustomerID\")[\"Invoice_month\"]\n",
    "onlinewc[\"cohort_month\"]=grouping.transform(\"min\") #assign the smallest months to each customer"
   ]
  },
  {
   "cell_type": "code",
   "execution_count": 40,
   "metadata": {
    "scrolled": true
   },
   "outputs": [
    {
     "data": {
      "text/html": [
       "<div>\n",
       "<style scoped>\n",
       "    .dataframe tbody tr th:only-of-type {\n",
       "        vertical-align: middle;\n",
       "    }\n",
       "\n",
       "    .dataframe tbody tr th {\n",
       "        vertical-align: top;\n",
       "    }\n",
       "\n",
       "    .dataframe thead th {\n",
       "        text-align: right;\n",
       "    }\n",
       "</style>\n",
       "<table border=\"1\" class=\"dataframe\">\n",
       "  <thead>\n",
       "    <tr style=\"text-align: right;\">\n",
       "      <th></th>\n",
       "      <th>InvoiceNo</th>\n",
       "      <th>Quantity</th>\n",
       "      <th>InvoiceDate</th>\n",
       "      <th>UnitPrice</th>\n",
       "      <th>CustomerID</th>\n",
       "      <th>Country</th>\n",
       "      <th>type_invoiceno</th>\n",
       "      <th>type_invoice_numeric</th>\n",
       "      <th>any_cancel</th>\n",
       "      <th>zscore</th>\n",
       "      <th>outliers</th>\n",
       "      <th>monetary_value</th>\n",
       "      <th>distance_uk</th>\n",
       "      <th>cat_distance_uk</th>\n",
       "      <th>date_column_trunc</th>\n",
       "      <th>Invoice_month</th>\n",
       "      <th>cohort_month</th>\n",
       "      <th>CohortIndex</th>\n",
       "    </tr>\n",
       "  </thead>\n",
       "  <tbody>\n",
       "    <tr>\n",
       "      <td>0</td>\n",
       "      <td>536365</td>\n",
       "      <td>6</td>\n",
       "      <td>2010-12-01 08:26:00</td>\n",
       "      <td>2.55</td>\n",
       "      <td>17850.0</td>\n",
       "      <td>United Kingdom</td>\n",
       "      <td>Numb</td>\n",
       "      <td>0</td>\n",
       "      <td>12</td>\n",
       "      <td>-0.024705</td>\n",
       "      <td>0</td>\n",
       "      <td>15.30</td>\n",
       "      <td>0.000059</td>\n",
       "      <td>United Kingdom</td>\n",
       "      <td>2010-12-01</td>\n",
       "      <td>2010-12-01</td>\n",
       "      <td>2010-12-01</td>\n",
       "      <td>0</td>\n",
       "    </tr>\n",
       "    <tr>\n",
       "      <td>1</td>\n",
       "      <td>536365</td>\n",
       "      <td>6</td>\n",
       "      <td>2010-12-01 08:26:00</td>\n",
       "      <td>3.39</td>\n",
       "      <td>17850.0</td>\n",
       "      <td>United Kingdom</td>\n",
       "      <td>Numb</td>\n",
       "      <td>0</td>\n",
       "      <td>12</td>\n",
       "      <td>-0.024705</td>\n",
       "      <td>0</td>\n",
       "      <td>20.34</td>\n",
       "      <td>0.000059</td>\n",
       "      <td>United Kingdom</td>\n",
       "      <td>2010-12-01</td>\n",
       "      <td>2010-12-01</td>\n",
       "      <td>2010-12-01</td>\n",
       "      <td>0</td>\n",
       "    </tr>\n",
       "    <tr>\n",
       "      <td>2</td>\n",
       "      <td>536365</td>\n",
       "      <td>8</td>\n",
       "      <td>2010-12-01 08:26:00</td>\n",
       "      <td>2.75</td>\n",
       "      <td>17850.0</td>\n",
       "      <td>United Kingdom</td>\n",
       "      <td>Numb</td>\n",
       "      <td>0</td>\n",
       "      <td>12</td>\n",
       "      <td>-0.016714</td>\n",
       "      <td>0</td>\n",
       "      <td>22.00</td>\n",
       "      <td>0.000059</td>\n",
       "      <td>United Kingdom</td>\n",
       "      <td>2010-12-01</td>\n",
       "      <td>2010-12-01</td>\n",
       "      <td>2010-12-01</td>\n",
       "      <td>0</td>\n",
       "    </tr>\n",
       "    <tr>\n",
       "      <td>3</td>\n",
       "      <td>536365</td>\n",
       "      <td>6</td>\n",
       "      <td>2010-12-01 08:26:00</td>\n",
       "      <td>3.39</td>\n",
       "      <td>17850.0</td>\n",
       "      <td>United Kingdom</td>\n",
       "      <td>Numb</td>\n",
       "      <td>0</td>\n",
       "      <td>12</td>\n",
       "      <td>-0.024705</td>\n",
       "      <td>0</td>\n",
       "      <td>20.34</td>\n",
       "      <td>0.000059</td>\n",
       "      <td>United Kingdom</td>\n",
       "      <td>2010-12-01</td>\n",
       "      <td>2010-12-01</td>\n",
       "      <td>2010-12-01</td>\n",
       "      <td>0</td>\n",
       "    </tr>\n",
       "    <tr>\n",
       "      <td>4</td>\n",
       "      <td>536365</td>\n",
       "      <td>6</td>\n",
       "      <td>2010-12-01 08:26:00</td>\n",
       "      <td>3.39</td>\n",
       "      <td>17850.0</td>\n",
       "      <td>United Kingdom</td>\n",
       "      <td>Numb</td>\n",
       "      <td>0</td>\n",
       "      <td>12</td>\n",
       "      <td>-0.024705</td>\n",
       "      <td>0</td>\n",
       "      <td>20.34</td>\n",
       "      <td>0.000059</td>\n",
       "      <td>United Kingdom</td>\n",
       "      <td>2010-12-01</td>\n",
       "      <td>2010-12-01</td>\n",
       "      <td>2010-12-01</td>\n",
       "      <td>0</td>\n",
       "    </tr>\n",
       "  </tbody>\n",
       "</table>\n",
       "</div>"
      ],
      "text/plain": [
       "  InvoiceNo  Quantity         InvoiceDate  UnitPrice  CustomerID  \\\n",
       "0    536365         6 2010-12-01 08:26:00       2.55     17850.0   \n",
       "1    536365         6 2010-12-01 08:26:00       3.39     17850.0   \n",
       "2    536365         8 2010-12-01 08:26:00       2.75     17850.0   \n",
       "3    536365         6 2010-12-01 08:26:00       3.39     17850.0   \n",
       "4    536365         6 2010-12-01 08:26:00       3.39     17850.0   \n",
       "\n",
       "          Country type_invoiceno  type_invoice_numeric  any_cancel    zscore  \\\n",
       "0  United Kingdom           Numb                     0          12 -0.024705   \n",
       "1  United Kingdom           Numb                     0          12 -0.024705   \n",
       "2  United Kingdom           Numb                     0          12 -0.016714   \n",
       "3  United Kingdom           Numb                     0          12 -0.024705   \n",
       "4  United Kingdom           Numb                     0          12 -0.024705   \n",
       "\n",
       "   outliers  monetary_value  distance_uk cat_distance_uk date_column_trunc  \\\n",
       "0         0           15.30     0.000059  United Kingdom        2010-12-01   \n",
       "1         0           20.34     0.000059  United Kingdom        2010-12-01   \n",
       "2         0           22.00     0.000059  United Kingdom        2010-12-01   \n",
       "3         0           20.34     0.000059  United Kingdom        2010-12-01   \n",
       "4         0           20.34     0.000059  United Kingdom        2010-12-01   \n",
       "\n",
       "  Invoice_month cohort_month  CohortIndex  \n",
       "0    2010-12-01   2010-12-01            0  \n",
       "1    2010-12-01   2010-12-01            0  \n",
       "2    2010-12-01   2010-12-01            0  \n",
       "3    2010-12-01   2010-12-01            0  \n",
       "4    2010-12-01   2010-12-01            0  "
      ]
     },
     "execution_count": 40,
     "metadata": {},
     "output_type": "execute_result"
    }
   ],
   "source": [
    "# Extracting integer values from date: \n",
    "def get_date_int(df,column):\n",
    "    year=df[column].dt.year\n",
    "    month=df[column].dt.month\n",
    "    day=df[column].dt.day\n",
    "    return year,month,day\n",
    "\n",
    "# Assigning time offset value:\n",
    "invoice_year,invoice_month,_ = get_date_int(onlinewc,\"Invoice_month\")\n",
    "cohort_year,cohort_month,_ = get_date_int(onlinewc,\"cohort_month\")\n",
    "\n",
    "# Difference in time:\n",
    "years_diff=invoice_year-cohort_year\n",
    "months_diff=invoice_month-cohort_month\n",
    "\n",
    "# Convert the difference to days: \n",
    "onlinewc[\"CohortIndex\"]=years_diff*12+months_diff\n",
    "onlinewc.head()"
   ]
  },
  {
   "cell_type": "code",
   "execution_count": 41,
   "metadata": {},
   "outputs": [],
   "source": [
    "# Count monthly active customers from each monthly cohort and period: \n",
    "grouping=onlinewc.groupby([\"cohort_month\",\"CohortIndex\"])"
   ]
  },
  {
   "cell_type": "code",
   "execution_count": 42,
   "metadata": {},
   "outputs": [],
   "source": [
    "# Counting the number of customers in each monthly cohort and period:\n",
    "cohort_data=grouping[\"CustomerID\"].apply(pd.Series.nunique)"
   ]
  },
  {
   "cell_type": "code",
   "execution_count": 43,
   "metadata": {},
   "outputs": [],
   "source": [
    "cohort_data=cohort_data.reset_index()\n",
    "cohort_counts=cohort_data.pivot(index=\"cohort_month\",columns=\"CohortIndex\",values=\"CustomerID\")"
   ]
  },
  {
   "cell_type": "code",
   "execution_count": 44,
   "metadata": {},
   "outputs": [
    {
     "data": {
      "image/png": "[encoded data removed]",
      "text/plain": [
       "<Figure size 720x360 with 2 Axes>"
      ]
     },
     "metadata": {
      "needs_background": "light"
     },
     "output_type": "display_data"
    }
   ],
   "source": [
    "# Visualizing the number of customers within each monthly cohort and by period:  \n",
    "plt.figure(figsize=(10,5))\n",
    "plt.title(\"Number of Customers by monthly cohorts\")\n",
    "ax=sns.heatmap(cohort_counts, annot=True,cmap=\"Blues\",xticklabels=cohort_counts.columns.astype(int),yticklabels=cohort_counts.index.strftime('%Y-%m'),fmt='g')\n",
    "#adjust resolution top and bottom\"\n",
    "bottom, top = ax.get_ylim()\n",
    "ax.set_ylim(bottom + 0.5, top - 0.5)\n",
    "ax.set_xlabel(\"Period\")\n",
    "ax.set_ylabel(\"Monthly cohort\")\n",
    "plt.show()"
   ]
  },
  {
   "cell_type": "markdown",
   "metadata": {},
   "source": [
    "This heatmap shows the number of customers classified by the month of their first transaction (monthly cohorts) and the  \n",
    "number of periods that were observed: \n",
    "- The largest cohort belongs to the 885 customers that started purchasing in 2010/12.\n",
    "- During the subsequent months, this e-commerce retail store gained at most 452 new customers in March. However, this number is  half of the total of customers that were acquired in December 2010. "
   ]
  },
  {
   "cell_type": "markdown",
   "metadata": {},
   "source": [
    "### Customer Retention Rate (CRR)\n",
    "Once the monthly cohorts and periods been created, we are gonna calculate some metrics. The first one is the Customer Retention Rate that designates the percentage of customers the company has retained over a given time period.\n",
    "\n",
    "**Retention Rate = ((CE-CN)/CS)) X 100** . Where: CE = number of customers at end of period, CN = number of new customers acquired during period,CS = number of customers at start of period."
   ]
  },
  {
   "cell_type": "code",
   "execution_count": 45,
   "metadata": {},
   "outputs": [],
   "source": [
    "# Number of customers at start of the period\n",
    "cohort_sizes = cohort_counts.iloc[:,0]\n",
    "# Divide all values in the cohort_counts table by cohort_sizes\n",
    "retention=cohort_counts.divide(cohort_sizes,axis=0) \n",
    "# Calculate the retention rate\n",
    "retention=retention.round(2)*100"
   ]
  },
  {
   "cell_type": "code",
   "execution_count": 46,
   "metadata": {},
   "outputs": [
    {
     "data": {
      "image/png": "[encoded data removed]",
      "text/plain": [
       "<Figure size 720x360 with 2 Axes>"
      ]
     },
     "metadata": {
      "needs_background": "light"
     },
     "output_type": "display_data"
    }
   ],
   "source": [
    "# Visualize average quantity metric using a heatmap\n",
    "plt.figure(figsize=(10,5))\n",
    "plt.title(\"Retention rate by monthly cohorts\")\n",
    "\n",
    "ax=sns.heatmap(retention, annot=True,cmap=\"Blues\",xticklabels=retention.columns.astype(int),yticklabels=retention.index.strftime('%Y-%m'),fmt='g')\n",
    "#adjust resolution top and bottom\"\n",
    "bottom, top = ax.get_ylim()\n",
    "ax.set_ylim(bottom + 0.5, top - 0.5)\n",
    "ax.set_xlabel(\"Period\")\n",
    "ax.set_ylabel(\"Monthly cohort\")\n",
    "plt.show()"
   ]
  },
  {
   "cell_type": "markdown",
   "metadata": {},
   "source": [
    "This heatmap presents the retention rates for monthly cohorts. We have 13 cohorts, starting from 12/2010 and finishing on   \n",
    "  12/2011. The eldest one (2010-12) is observed for 12 periods whereas the most recent one (2011-12) is observed 0 periods. \n",
    "- The eldest cohort has the highest retention rates for all the 12 periods. The most important retention rate is on \n",
    "  the eleventh period, which corresponds to the month of November 2011. In this month, 50% of the initial customers did a purchase.  \n",
    "- For the monthly cohorts starting on 2011, the retention rate after the period 0 (first month transaction) fell from 100% to approximately 20%. In the penultimate period (corresponds to November), the retention rate reaches the maximum value within each cohort. For the periods situated between the first and the penultimate period, the retention rate remains on a similar range."
   ]
  },
  {
   "cell_type": "markdown",
   "metadata": {},
   "source": [
    "### Average Purchased Quantity "
   ]
  },
  {
   "cell_type": "code",
   "execution_count": 47,
   "metadata": {},
   "outputs": [],
   "source": [
    "grouping = onlinewc.groupby([\"cohort_month\",\"CohortIndex\"])\n",
    "cohort_data_q=grouping[\"Quantity\"].mean() \n",
    "cohort_data_q=cohort_data_q.reset_index()"
   ]
  },
  {
   "cell_type": "code",
   "execution_count": 48,
   "metadata": {},
   "outputs": [
    {
     "data": {
      "image/png": "[encoded data removed]",
      "text/plain": [
       "<Figure size 720x360 with 2 Axes>"
      ]
     },
     "metadata": {
      "needs_background": "light"
     },
     "output_type": "display_data"
    }
   ],
   "source": [
    "# Visualize average quantity purchased \n",
    "average_quantity=cohort_data_q.pivot(index=\"cohort_month\",columns=\"CohortIndex\",values=\"Quantity\")\n",
    "average_quantity=average_quantity.round(1)\n",
    "\n",
    "plt.figure(figsize=(10,5))\n",
    "plt.title(\"Average products purchased by monthly cohorts\")\n",
    "ax=sns.heatmap(average_quantity, annot=True,cmap=\"Blues\",xticklabels=average_quantity.columns.astype(int),yticklabels=average_quantity.index.strftime('%Y-%m'),fmt='g')\n",
    "bottom, top = ax.get_ylim()\n",
    "ax.set_ylim(bottom + 0.5, top - 0.5)\n",
    "ax.set_xlabel(\"Period\")\n",
    "ax.set_ylabel(\"Monthly cohort\")\n",
    "plt.show()"
   ]
  },
  {
   "cell_type": "markdown",
   "metadata": {},
   "source": [
    "This heatmap presents the average number of products purchased within each cohort\n",
    "- When we look at the first rows of the heatmap, it seems the highest purchases were made by the eldest cohorts (blue is more intense). As we moved from the top to the bottom rows, the average purchases diminish (blue becomes less intense). This trend might be explained by the fact that there are more customers in the eldest cohort than in subsequent ones. \n",
    "- In particular, the average of purchases in most of the periods for the cohorts between 2010/12 and 2011/11 oscillates from 10 to 19 products. In contrast, the average of purchases in most of the periods for the cohorts between 2011/07 and 2011/11 were cutted by half remaining in a range between 5 and 10. "
   ]
  },
  {
   "cell_type": "markdown",
   "metadata": {},
   "source": [
    "### Monetary value per customer "
   ]
  },
  {
   "cell_type": "code",
   "execution_count": 49,
   "metadata": {},
   "outputs": [
    {
     "data": {
      "image/png": "[encoded data removed]",
      "text/plain": [
       "<Figure size 1080x360 with 2 Axes>"
      ]
     },
     "metadata": {
      "needs_background": "light"
     },
     "output_type": "display_data"
    }
   ],
   "source": [
    "grouping = onlinewc.groupby([\"cohort_month\",\"CohortIndex\"])\n",
    "#adding the monetary_value per monthly cohort and period\n",
    "cohort_data_mv=grouping[\"monetary_value\"].sum() \n",
    "\n",
    "# Calculating the monetary value per customer: \n",
    "mv_per_customer=pd.concat([cohort_data_mv,cohort_data.set_index([\"cohort_month\",\"CohortIndex\"])],axis=1)\n",
    "mv_per_customer[\"mv_percustomer\"]=round(mv_per_customer[\"monetary_value\"]/mv_per_customer[\"CustomerID\"],2)\n",
    "mv_per_customer=mv_per_customer.reset_index().drop(columns=[\"monetary_value\",\"CustomerID\"])\n",
    "\n",
    "# Visualize average monetary value metric\n",
    "average_monetary_value=mv_per_customer.pivot(index=\"cohort_month\",columns=\"CohortIndex\",values=\"mv_percustomer\")\n",
    "average_monetary_value=average_monetary_value.round(1)\n",
    "\n",
    "plt.figure(figsize=(15,5))\n",
    "plt.title(\"Monetary Value (£) per customer spent by monthly cohorts\")\n",
    "ax=sns.heatmap(average_monetary_value, annot=True,cmap=\"Blues\",xticklabels=average_monetary_value.columns.astype(int),yticklabels=average_monetary_value.index.strftime('%Y-%m'),fmt='g')\n",
    "bottom, top = ax.get_ylim()\n",
    "ax.set_ylim(bottom + 0.5, top - 0.5)\n",
    "ax.set_xlabel(\"Period\")\n",
    "ax.set_ylabel(\"Monthly cohort\")\n",
    "plt.show()"
   ]
  },
  {
   "cell_type": "markdown",
   "metadata": {},
   "source": [
    "- The eldest cohort(2010-12) did purchases, during 11 out of 13 periods, which monetary value were the highest.\n",
    "- The customers from November 2011 did relatively better in 6 out of 13 periods than the customers arriving in the posterior months. \n",
    "- The amount of money spend by customer for the rest of the monthly periods, with the exception of August, is not that high in comparison to the monthly cohorts of 2010-12 and 2011-11.  "
   ]
  },
  {
   "cell_type": "markdown",
   "metadata": {},
   "source": [
    "## 3.2 Recency Frequency Monetary Value (RFM) model\n",
    "\n",
    "RFM segmentation is a powerful way to identify groups of customers for special treatment based on 3 elements: **Recency**: How recent was the customers last purchase ?, **Frequency**: How many purchases the customer has done in the last 12 months?,**Monetary value**: How much does the customer spend in the last 12 months?"
   ]
  },
  {
   "cell_type": "markdown",
   "metadata": {},
   "source": [
    "**Defining the years to analyze**\n",
    "\n",
    "Since we are interested in the last 12 months, we we are gonna keep only customers that bought during 2010/12/09 and 2011/12/11."
   ]
  },
  {
   "cell_type": "code",
   "execution_count": 50,
   "metadata": {},
   "outputs": [],
   "source": [
    "onlinewc_m=onlinewc.copy()"
   ]
  },
  {
   "cell_type": "code",
   "execution_count": 51,
   "metadata": {},
   "outputs": [
    {
     "name": "stdout",
     "output_type": "stream",
     "text": [
      "Min:2010-12-01;Max:2011-12-09\n"
     ]
    }
   ],
   "source": [
    "# Keeping only the last 12 months:\n",
    "onlinewc_m[\"InvoiceDate\"]=pd.to_datetime(onlinewc_m[\"InvoiceDate\"])\n",
    "onlinewc_m[\"InvoiceDate\"]=onlinewc_m[\"InvoiceDate\"].dt.date\n",
    "print(\"Min:{};Max:{}\".format(min(onlinewc_m.InvoiceDate),max(onlinewc_m.InvoiceDate)))"
   ]
  },
  {
   "cell_type": "code",
   "execution_count": 52,
   "metadata": {},
   "outputs": [
    {
     "name": "stdout",
     "output_type": "stream",
     "text": [
      "Min:2010-12-10;Max:2011-12-09\n"
     ]
    }
   ],
   "source": [
    "# Keep exactly the same day: \n",
    "onlinewc_m=onlinewc_m[onlinewc_m.InvoiceDate>dt.date(2010,12,9)]\n",
    "print(\"Min:{};Max:{}\".format(min(onlinewc_m.InvoiceDate),max(onlinewc_m.InvoiceDate)))"
   ]
  },
  {
   "cell_type": "code",
   "execution_count": 53,
   "metadata": {},
   "outputs": [
    {
     "data": {
      "text/plain": [
       "datetime.date(2011, 12, 10)"
      ]
     },
     "execution_count": 53,
     "metadata": {},
     "output_type": "execute_result"
    }
   ],
   "source": [
    "#Create hypothetical snap_shot day as if we're doing analysis today : \n",
    "snapshot_date=max(onlinewc_m[\"InvoiceDate\"])+dt.timedelta(days=1)\n",
    "snapshot_date # \"the today in the real world\""
   ]
  },
  {
   "cell_type": "markdown",
   "metadata": {},
   "source": [
    "**Creating RFM metrics**"
   ]
  },
  {
   "cell_type": "code",
   "execution_count": 54,
   "metadata": {},
   "outputs": [],
   "source": [
    "# Calculate the amount of money spend per transaction:  \n",
    "onlinewc_m[\"TotalSum\"]=onlinewc_m[\"Quantity\"]*onlinewc_m[\"UnitPrice\"]\n",
    "\n",
    "# Aggregate data on a customer level\n",
    "onlinewc_m=onlinewc_m.groupby(\"CustomerID\").agg({\"InvoiceDate\":lambda x:(snapshot_date-x.max()).days,\"InvoiceNo\":\"count\",\"TotalSum\":\"sum\"})\n",
    "\n",
    "#rename columns for easier interpretation:\n",
    "onlinewc_m.rename(columns={\"InvoiceDate\":\"Recency\",\"InvoiceNo\":\"Frequency\",\"TotalSum\":\"MonetaryValue\"},inplace=True)"
   ]
  },
  {
   "cell_type": "markdown",
   "metadata": {},
   "source": [
    "**Building RFM segments**\n",
    "\n",
    "Each of the customers has a Recency, Frequency and Monetary Value. In order to create a score based on those three elements, we are going to divide the distribution of each factor in quartiles. After, we are going to place the recency, frequency and monetary values into one quartile, and attribute a number that ranges from 1 to 4. The highest score 4,4,4 belongs to customers that made more purchases, spent more money, and purchased more recently. The lowest score 1,1,1,belongs to customers that bought the least, spent the least, and purchased the longest ago. "
   ]
  },
  {
   "cell_type": "code",
   "execution_count": 55,
   "metadata": {},
   "outputs": [],
   "source": [
    "r_labels= range(4,0,-1)\n",
    "r_quartiles=pd.qcut(onlinewc_m[\"Recency\"],4,labels=r_labels)\n",
    "onlinewc_m=onlinewc_m.assign(R=r_quartiles.values)"
   ]
  },
  {
   "cell_type": "code",
   "execution_count": 56,
   "metadata": {},
   "outputs": [],
   "source": [
    "f_labels= range(1,5)\n",
    "f_quartiles=pd.qcut(onlinewc_m[\"Frequency\"],4,labels=f_labels)\n",
    "onlinewc_m=onlinewc_m.assign(F=f_quartiles.values)"
   ]
  },
  {
   "cell_type": "code",
   "execution_count": 57,
   "metadata": {},
   "outputs": [],
   "source": [
    "m_labels= range(1,5)\n",
    "m_quartiles=pd.qcut(onlinewc_m[\"MonetaryValue\"],4,labels=m_labels)\n",
    "onlinewc_m=onlinewc_m.assign(M=m_quartiles.values)"
   ]
  },
  {
   "cell_type": "code",
   "execution_count": 58,
   "metadata": {},
   "outputs": [
    {
     "data": {
      "text/html": [
       "<div>\n",
       "<style scoped>\n",
       "    .dataframe tbody tr th:only-of-type {\n",
       "        vertical-align: middle;\n",
       "    }\n",
       "\n",
       "    .dataframe tbody tr th {\n",
       "        vertical-align: top;\n",
       "    }\n",
       "\n",
       "    .dataframe thead th {\n",
       "        text-align: right;\n",
       "    }\n",
       "</style>\n",
       "<table border=\"1\" class=\"dataframe\">\n",
       "  <thead>\n",
       "    <tr style=\"text-align: right;\">\n",
       "      <th></th>\n",
       "      <th>Recency</th>\n",
       "      <th>Frequency</th>\n",
       "      <th>MonetaryValue</th>\n",
       "      <th>R</th>\n",
       "      <th>F</th>\n",
       "      <th>M</th>\n",
       "      <th>RFM_segment</th>\n",
       "      <th>RFM_Score</th>\n",
       "    </tr>\n",
       "    <tr>\n",
       "      <th>CustomerID</th>\n",
       "      <th></th>\n",
       "      <th></th>\n",
       "      <th></th>\n",
       "      <th></th>\n",
       "      <th></th>\n",
       "      <th></th>\n",
       "      <th></th>\n",
       "      <th></th>\n",
       "    </tr>\n",
       "  </thead>\n",
       "  <tbody>\n",
       "    <tr>\n",
       "      <td>12347.0</td>\n",
       "      <td>3</td>\n",
       "      <td>151</td>\n",
       "      <td>3598.21</td>\n",
       "      <td>4</td>\n",
       "      <td>4</td>\n",
       "      <td>4</td>\n",
       "      <td>444</td>\n",
       "      <td>12.0</td>\n",
       "    </tr>\n",
       "    <tr>\n",
       "      <td>12348.0</td>\n",
       "      <td>76</td>\n",
       "      <td>31</td>\n",
       "      <td>1797.24</td>\n",
       "      <td>2</td>\n",
       "      <td>2</td>\n",
       "      <td>4</td>\n",
       "      <td>224</td>\n",
       "      <td>8.0</td>\n",
       "    </tr>\n",
       "    <tr>\n",
       "      <td>12349.0</td>\n",
       "      <td>19</td>\n",
       "      <td>73</td>\n",
       "      <td>1757.55</td>\n",
       "      <td>3</td>\n",
       "      <td>3</td>\n",
       "      <td>4</td>\n",
       "      <td>334</td>\n",
       "      <td>10.0</td>\n",
       "    </tr>\n",
       "    <tr>\n",
       "      <td>12350.0</td>\n",
       "      <td>311</td>\n",
       "      <td>17</td>\n",
       "      <td>334.40</td>\n",
       "      <td>1</td>\n",
       "      <td>1</td>\n",
       "      <td>2</td>\n",
       "      <td>112</td>\n",
       "      <td>4.0</td>\n",
       "    </tr>\n",
       "    <tr>\n",
       "      <td>12352.0</td>\n",
       "      <td>37</td>\n",
       "      <td>85</td>\n",
       "      <td>2506.04</td>\n",
       "      <td>3</td>\n",
       "      <td>3</td>\n",
       "      <td>4</td>\n",
       "      <td>334</td>\n",
       "      <td>10.0</td>\n",
       "    </tr>\n",
       "  </tbody>\n",
       "</table>\n",
       "</div>"
      ],
      "text/plain": [
       "            Recency  Frequency  MonetaryValue  R  F  M RFM_segment  RFM_Score\n",
       "CustomerID                                                                   \n",
       "12347.0           3        151        3598.21  4  4  4         444       12.0\n",
       "12348.0          76         31        1797.24  2  2  4         224        8.0\n",
       "12349.0          19         73        1757.55  3  3  4         334       10.0\n",
       "12350.0         311         17         334.40  1  1  2         112        4.0\n",
       "12352.0          37         85        2506.04  3  3  4         334       10.0"
      ]
     },
     "execution_count": 58,
     "metadata": {},
     "output_type": "execute_result"
    }
   ],
   "source": [
    "def join_rfm(x):return str(x[\"R\"])+str(x[\"F\"])+str(x[\"M\"])\n",
    "onlinewc_m[\"RFM_segment\"]=onlinewc_m.apply(join_rfm,axis=1)\n",
    "onlinewc_m[\"RFM_Score\"]=onlinewc_m[[\"R\",\"F\",\"M\"]].sum(axis=1)\n",
    "onlinewc_m.head()"
   ]
  },
  {
   "cell_type": "markdown",
   "metadata": {},
   "source": [
    "We see each of the customers has a Recency, Frequency and Monetary Value. Each element  has a corresponding value R,F,M that ranges from 1 to 4. RFM segment corresponds to the concatenation of the 3 values and the RFM score corresponds to the sum of the 3 values. "
   ]
  },
  {
   "cell_type": "markdown",
   "metadata": {},
   "source": [
    "**Grouping into named segments**: \n",
    "\n",
    "Based on the RFM-score, we are gonna create three arbitrary categories to classify the customers: gold, silver and bronze"
   ]
  },
  {
   "cell_type": "code",
   "execution_count": 59,
   "metadata": {},
   "outputs": [
    {
     "data": {
      "text/html": [
       "<div>\n",
       "<style scoped>\n",
       "    .dataframe tbody tr th:only-of-type {\n",
       "        vertical-align: middle;\n",
       "    }\n",
       "\n",
       "    .dataframe tbody tr th {\n",
       "        vertical-align: top;\n",
       "    }\n",
       "\n",
       "    .dataframe thead tr th {\n",
       "        text-align: left;\n",
       "    }\n",
       "</style>\n",
       "<table border=\"1\" class=\"dataframe\">\n",
       "  <thead>\n",
       "    <tr>\n",
       "      <th></th>\n",
       "      <th>General_Segment</th>\n",
       "      <th>Recency</th>\n",
       "      <th>Frequency</th>\n",
       "      <th colspan=\"2\" halign=\"left\">MonetaryValue</th>\n",
       "    </tr>\n",
       "    <tr>\n",
       "      <th></th>\n",
       "      <th></th>\n",
       "      <th>mean</th>\n",
       "      <th>mean</th>\n",
       "      <th>mean</th>\n",
       "      <th>count</th>\n",
       "    </tr>\n",
       "  </thead>\n",
       "  <tbody>\n",
       "    <tr>\n",
       "      <td>0</td>\n",
       "      <td>Gold</td>\n",
       "      <td>26.0</td>\n",
       "      <td>186.2</td>\n",
       "      <td>4222.1</td>\n",
       "      <td>1638</td>\n",
       "    </tr>\n",
       "    <tr>\n",
       "      <td>1</td>\n",
       "      <td>Silver</td>\n",
       "      <td>95.2</td>\n",
       "      <td>34.9</td>\n",
       "      <td>678.5</td>\n",
       "      <td>1866</td>\n",
       "    </tr>\n",
       "    <tr>\n",
       "      <td>2</td>\n",
       "      <td>Bronze</td>\n",
       "      <td>205.6</td>\n",
       "      <td>11.1</td>\n",
       "      <td>196.5</td>\n",
       "      <td>759</td>\n",
       "    </tr>\n",
       "  </tbody>\n",
       "</table>\n",
       "</div>"
      ],
      "text/plain": [
       "  General_Segment Recency Frequency MonetaryValue      \n",
       "                     mean      mean          mean count\n",
       "0            Gold    26.0     186.2        4222.1  1638\n",
       "1          Silver    95.2      34.9         678.5  1866\n",
       "2          Bronze   205.6      11.1         196.5   759"
      ]
     },
     "execution_count": 59,
     "metadata": {},
     "output_type": "execute_result"
    }
   ],
   "source": [
    "def segment_me(df):\n",
    "    if df[\"RFM_Score\"]>=9:\n",
    "        return \"Gold\"\n",
    "    elif (df[\"RFM_Score\"]>=5) and(df[\"RFM_Score\"]<9):\n",
    "        return \"Silver\"\n",
    "    else:\n",
    "        return \"Bronze\"\n",
    "    \n",
    "onlinewc_m[\"General_Segment\"]=onlinewc_m.apply(segment_me,axis=1)\n",
    "\n",
    "# looking statistics across 3 segments: \n",
    "rfm=onlinewc_m.groupby(\"General_Segment\").agg({\"Recency\":\"mean\",\"Frequency\":\"mean\",\"MonetaryValue\":[\"mean\",\"count\"]}).round(1)\n",
    "rfm=rfm.reindex([\"Gold\",\"Silver\",\"Bronze\"]).reset_index()\n",
    "rfm"
   ]
  },
  {
   "cell_type": "markdown",
   "metadata": {},
   "source": [
    "**What's the % of customers belonging to each category?**"
   ]
  },
  {
   "cell_type": "code",
   "execution_count": 60,
   "metadata": {},
   "outputs": [
    {
     "name": "stdout",
     "output_type": "stream",
     "text": [
      "{'gold': 0    38.4\n",
      "Name: count, dtype: float64, 'silver': 1    43.8\n",
      "Name: count, dtype: float64, 'Bronze': 2    17.8\n",
      "Name: count, dtype: float64}\n"
     ]
    }
   ],
   "source": [
    "gold=(rfm.loc[rfm[\"General_Segment\"]==\"Gold\"][\"MonetaryValue\"][\"count\"]/rfm[\"MonetaryValue\"][\"count\"].sum())*100\n",
    "silver=(rfm.loc[rfm[\"General_Segment\"]==\"Silver\"][\"MonetaryValue\"][\"count\"]/rfm[\"MonetaryValue\"][\"count\"].sum())*100\n",
    "bronze=(rfm.loc[rfm[\"General_Segment\"]==\"Bronze\"][\"MonetaryValue\"][\"count\"]/rfm[\"MonetaryValue\"][\"count\"].sum())*100\n",
    "print ({\"gold\":round(gold,1),\"silver\":round(silver,1),\"Bronze\":round(bronze,1)})\n"
   ]
  },
  {
   "cell_type": "markdown",
   "metadata": {},
   "source": [
    "- Most of the customers (43.8%) that did a purchase during 2011 belong to the category \"silver\" whereas the second category with 5% points less is  the \"gold\" one. \n",
    "- Only 17.8% of the customers are classified as bronze customers. \n",
    "- Customers belonging to the category gold bought on average 26 days ago, purchased 186 times and spent 4222 pounds. \n",
    "- Customers classified as silver bought on average three months ago, 35 times and spent 679 pounds. \n",
    "- Customers belonging to the bronze category bought 7 months ago, bought 11 times and spent 196 pounds. "
   ]
  },
  {
   "cell_type": "markdown",
   "metadata": {},
   "source": [
    "**Adding other characteristics to each segment:**"
   ]
  },
  {
   "cell_type": "code",
   "execution_count": 61,
   "metadata": {},
   "outputs": [],
   "source": [
    "#Adding other variables to the dataframe containg the rfm metrics: \n",
    "# copying the dataframe created for the cohort analysis: \n",
    "onlinewc_=onlinewc.copy()\n",
    "onlinewc_=onlinewc_.groupby([\"CustomerID\",\"Country\",\"cohort_month\"],as_index=False).agg({\"distance_uk\":\"mean\"}).round(1)\n",
    "onlinewc_=onlinewc_.set_index(\"CustomerID\")\n",
    "onlinewc_m=onlinewc_.merge(onlinewc_m,how=\"left\",left_index=True, right_index=True)\n",
    "gold=onlinewc_m[onlinewc_m[\"General_Segment\"]==\"Gold\"]\n",
    "silver=onlinewc_m[onlinewc_m[\"General_Segment\"]==\"Silver\"]\n",
    "bronze=onlinewc_m[onlinewc_m[\"General_Segment\"]==\"Bronze\"]"
   ]
  },
  {
   "cell_type": "code",
   "execution_count": 62,
   "metadata": {},
   "outputs": [
    {
     "data": {
      "text/html": [
       "<div>\n",
       "<style scoped>\n",
       "    .dataframe tbody tr th:only-of-type {\n",
       "        vertical-align: middle;\n",
       "    }\n",
       "\n",
       "    .dataframe tbody tr th {\n",
       "        vertical-align: top;\n",
       "    }\n",
       "\n",
       "    .dataframe thead th {\n",
       "        text-align: right;\n",
       "    }\n",
       "</style>\n",
       "<table border=\"1\" class=\"dataframe\">\n",
       "  <thead>\n",
       "    <tr style=\"text-align: right;\">\n",
       "      <th></th>\n",
       "      <th>Country</th>\n",
       "      <th>cohort_month</th>\n",
       "      <th>distance_uk</th>\n",
       "    </tr>\n",
       "  </thead>\n",
       "  <tbody>\n",
       "    <tr>\n",
       "      <td>count</td>\n",
       "      <td>1644</td>\n",
       "      <td>1644</td>\n",
       "      <td>1642.0</td>\n",
       "    </tr>\n",
       "    <tr>\n",
       "      <td>unique</td>\n",
       "      <td>27</td>\n",
       "      <td>13</td>\n",
       "      <td>NaN</td>\n",
       "    </tr>\n",
       "    <tr>\n",
       "      <td>top</td>\n",
       "      <td>United Kingdom</td>\n",
       "      <td>2010-12-01 00:00:00</td>\n",
       "      <td>NaN</td>\n",
       "    </tr>\n",
       "    <tr>\n",
       "      <td>freq</td>\n",
       "      <td>1457</td>\n",
       "      <td>526</td>\n",
       "      <td>NaN</td>\n",
       "    </tr>\n",
       "    <tr>\n",
       "      <td>first</td>\n",
       "      <td>NaN</td>\n",
       "      <td>2010-12-01 00:00:00</td>\n",
       "      <td>NaN</td>\n",
       "    </tr>\n",
       "    <tr>\n",
       "      <td>last</td>\n",
       "      <td>NaN</td>\n",
       "      <td>2011-12-01 00:00:00</td>\n",
       "      <td>NaN</td>\n",
       "    </tr>\n",
       "    <tr>\n",
       "      <td>mean</td>\n",
       "      <td>NaN</td>\n",
       "      <td>NaN</td>\n",
       "      <td>186.3</td>\n",
       "    </tr>\n",
       "  </tbody>\n",
       "</table>\n",
       "</div>"
      ],
      "text/plain": [
       "               Country         cohort_month  distance_uk\n",
       "count             1644                 1644       1642.0\n",
       "unique              27                   13          NaN\n",
       "top     United Kingdom  2010-12-01 00:00:00          NaN\n",
       "freq              1457                  526          NaN\n",
       "first              NaN  2010-12-01 00:00:00          NaN\n",
       "last               NaN  2011-12-01 00:00:00          NaN\n",
       "mean               NaN                  NaN        186.3"
      ]
     },
     "execution_count": 62,
     "metadata": {},
     "output_type": "execute_result"
    }
   ],
   "source": [
    "gold.describe(include=\"all\").round(1).iloc[:7,:3]"
   ]
  },
  {
   "cell_type": "markdown",
   "metadata": {},
   "source": [
    "When we look at the customers considered in the gold category, we realize other characteristics: \n",
    "- Most of them come from the United Kingdom (88%). \n",
    "- Average distance is 186 km from the United Kingdom. \n",
    "- One third of them (32%) belonged to the eldest monthly cohort (2010/12). "
   ]
  },
  {
   "cell_type": "code",
   "execution_count": 63,
   "metadata": {},
   "outputs": [
    {
     "data": {
      "text/html": [
       "<div>\n",
       "<style scoped>\n",
       "    .dataframe tbody tr th:only-of-type {\n",
       "        vertical-align: middle;\n",
       "    }\n",
       "\n",
       "    .dataframe tbody tr th {\n",
       "        vertical-align: top;\n",
       "    }\n",
       "\n",
       "    .dataframe thead th {\n",
       "        text-align: right;\n",
       "    }\n",
       "</style>\n",
       "<table border=\"1\" class=\"dataframe\">\n",
       "  <thead>\n",
       "    <tr style=\"text-align: right;\">\n",
       "      <th></th>\n",
       "      <th>Country</th>\n",
       "      <th>cohort_month</th>\n",
       "      <th>distance_uk</th>\n",
       "    </tr>\n",
       "  </thead>\n",
       "  <tbody>\n",
       "    <tr>\n",
       "      <td>count</td>\n",
       "      <td>1868</td>\n",
       "      <td>1868</td>\n",
       "      <td>1862.0</td>\n",
       "    </tr>\n",
       "    <tr>\n",
       "      <td>unique</td>\n",
       "      <td>30</td>\n",
       "      <td>13</td>\n",
       "      <td>NaN</td>\n",
       "    </tr>\n",
       "    <tr>\n",
       "      <td>top</td>\n",
       "      <td>United Kingdom</td>\n",
       "      <td>2011-11-01 00:00:00</td>\n",
       "      <td>NaN</td>\n",
       "    </tr>\n",
       "    <tr>\n",
       "      <td>freq</td>\n",
       "      <td>1682</td>\n",
       "      <td>259</td>\n",
       "      <td>NaN</td>\n",
       "    </tr>\n",
       "    <tr>\n",
       "      <td>first</td>\n",
       "      <td>NaN</td>\n",
       "      <td>2010-12-01 00:00:00</td>\n",
       "      <td>NaN</td>\n",
       "    </tr>\n",
       "    <tr>\n",
       "      <td>last</td>\n",
       "      <td>NaN</td>\n",
       "      <td>2011-12-01 00:00:00</td>\n",
       "      <td>NaN</td>\n",
       "    </tr>\n",
       "    <tr>\n",
       "      <td>mean</td>\n",
       "      <td>NaN</td>\n",
       "      <td>NaN</td>\n",
       "      <td>196.1</td>\n",
       "    </tr>\n",
       "  </tbody>\n",
       "</table>\n",
       "</div>"
      ],
      "text/plain": [
       "               Country         cohort_month  distance_uk\n",
       "count             1868                 1868       1862.0\n",
       "unique              30                   13          NaN\n",
       "top     United Kingdom  2011-11-01 00:00:00          NaN\n",
       "freq              1682                  259          NaN\n",
       "first              NaN  2010-12-01 00:00:00          NaN\n",
       "last               NaN  2011-12-01 00:00:00          NaN\n",
       "mean               NaN                  NaN        196.1"
      ]
     },
     "execution_count": 63,
     "metadata": {},
     "output_type": "execute_result"
    }
   ],
   "source": [
    "silver.describe(include=\"all\").round(1).iloc[:7,:3]"
   ]
  },
  {
   "cell_type": "markdown",
   "metadata": {},
   "source": [
    "When we look at the customers considered in the silver category, we realize other characteristics: \n",
    "- Most of them come from the United Kingdom (90%). \n",
    "- Average distance is 196 km from the United Kingdom. \n",
    "- 14% of the customers belonged to the monthly cohort of 2011/11, which is a recent cohort.  "
   ]
  },
  {
   "cell_type": "code",
   "execution_count": 64,
   "metadata": {},
   "outputs": [
    {
     "data": {
      "text/html": [
       "<div>\n",
       "<style scoped>\n",
       "    .dataframe tbody tr th:only-of-type {\n",
       "        vertical-align: middle;\n",
       "    }\n",
       "\n",
       "    .dataframe tbody tr th {\n",
       "        vertical-align: top;\n",
       "    }\n",
       "\n",
       "    .dataframe thead th {\n",
       "        text-align: right;\n",
       "    }\n",
       "</style>\n",
       "<table border=\"1\" class=\"dataframe\">\n",
       "  <thead>\n",
       "    <tr style=\"text-align: right;\">\n",
       "      <th></th>\n",
       "      <th>Country</th>\n",
       "      <th>cohort_month</th>\n",
       "      <th>distance_uk</th>\n",
       "    </tr>\n",
       "  </thead>\n",
       "  <tbody>\n",
       "    <tr>\n",
       "      <td>count</td>\n",
       "      <td>759</td>\n",
       "      <td>759</td>\n",
       "      <td>757.0</td>\n",
       "    </tr>\n",
       "    <tr>\n",
       "      <td>unique</td>\n",
       "      <td>19</td>\n",
       "      <td>11</td>\n",
       "      <td>NaN</td>\n",
       "    </tr>\n",
       "    <tr>\n",
       "      <td>top</td>\n",
       "      <td>United Kingdom</td>\n",
       "      <td>2011-03-01 00:00:00</td>\n",
       "      <td>NaN</td>\n",
       "    </tr>\n",
       "    <tr>\n",
       "      <td>freq</td>\n",
       "      <td>714</td>\n",
       "      <td>106</td>\n",
       "      <td>NaN</td>\n",
       "    </tr>\n",
       "    <tr>\n",
       "      <td>first</td>\n",
       "      <td>NaN</td>\n",
       "      <td>2010-12-01 00:00:00</td>\n",
       "      <td>NaN</td>\n",
       "    </tr>\n",
       "    <tr>\n",
       "      <td>last</td>\n",
       "      <td>NaN</td>\n",
       "      <td>2011-10-01 00:00:00</td>\n",
       "      <td>NaN</td>\n",
       "    </tr>\n",
       "    <tr>\n",
       "      <td>mean</td>\n",
       "      <td>NaN</td>\n",
       "      <td>NaN</td>\n",
       "      <td>145.7</td>\n",
       "    </tr>\n",
       "  </tbody>\n",
       "</table>\n",
       "</div>"
      ],
      "text/plain": [
       "               Country         cohort_month  distance_uk\n",
       "count              759                  759        757.0\n",
       "unique              19                   11          NaN\n",
       "top     United Kingdom  2011-03-01 00:00:00          NaN\n",
       "freq               714                  106          NaN\n",
       "first              NaN  2010-12-01 00:00:00          NaN\n",
       "last               NaN  2011-10-01 00:00:00          NaN\n",
       "mean               NaN                  NaN        145.7"
      ]
     },
     "execution_count": 64,
     "metadata": {},
     "output_type": "execute_result"
    }
   ],
   "source": [
    "bronze.describe(include=\"all\").round(1).iloc[:7,:3]"
   ]
  },
  {
   "cell_type": "markdown",
   "metadata": {},
   "source": [
    "When we look at the customers considered in the bronze category, we realize other characteristics: \n",
    "- Most of them come from the United Kingdom (94%). \n",
    "- Average distance is 145 km from the United Kingdom. \n",
    "- 14% of the customers belonged to the monthly cohort of 2011/03. "
   ]
  },
  {
   "cell_type": "markdown",
   "metadata": {},
   "source": [
    "**How much money do each category represent?**"
   ]
  },
  {
   "cell_type": "code",
   "execution_count": 65,
   "metadata": {},
   "outputs": [
    {
     "name": "stdout",
     "output_type": "stream",
     "text": [
      "{'monetary value % of gold customers': 83.03, 'monetary value % of silver customers': 15.18, 'monetary value % of bronze customers': 15.18}\n"
     ]
    }
   ],
   "source": [
    "mv_g=gold[\"MonetaryValue\"].sum()\n",
    "mv_s=silver[\"MonetaryValue\"].sum()\n",
    "mv_b=bronze[\"MonetaryValue\"].sum()\n",
    "total=mv_g+mv_s+mv_b\n",
    "print({\"monetary value % of gold customers\": round(mv_g/total*100,2),\"monetary value % of silver customers\": round(mv_s/total*100,2),\"monetary value % of bronze customers\": round(mv_s/total*100,2) })"
   ]
  },
  {
   "cell_type": "markdown",
   "metadata": {},
   "source": [
    "- 83.2% of the annual sales of 2011 come from the gold customers, and only 15% come from the silver one. "
   ]
  },
  {
   "cell_type": "markdown",
   "metadata": {},
   "source": [
    "**How much money do the eldest cohort do?**"
   ]
  },
  {
   "cell_type": "code",
   "execution_count": 66,
   "metadata": {},
   "outputs": [
    {
     "name": "stdout",
     "output_type": "stream",
     "text": [
      "48.24\n"
     ]
    }
   ],
   "source": [
    "mv_g_old_cohort=gold[gold[\"cohort_month\"]=='2010-12-01T00:00:00.000000000'][\"MonetaryValue\"].sum()\n",
    "print(round (mv_g_old_cohort/total*100,2))"
   ]
  },
  {
   "cell_type": "markdown",
   "metadata": {},
   "source": [
    "# 4. Conclusion and recommendations \n",
    "\n",
    "In this project, we explored a dataset from customer's transactions between 2010 and 2011 from a non-store online retail based and registered in the United Kingdom. The exploratory analysis of data showed that the e-commerce did better by the last three months of the year in comparison to the previous ones. There was an increase in the sales revenue and in the number of customers. However, there was a lack of diversification of the clients: 90% came from the UK and they represented 80% of the sales revenue. Even if there was a decreased in the percentage of cancellations by the end of 2011, we don't know if those won't be reflected in the next quarter of 2012. \n",
    "\n",
    "One strategy to continue increasing the revenue from this online retail store is by targeting the customers according to their specific characterists. As part of our analysis, we performed a cohort analysis and the RFM model, which main results were: \n",
    "\n",
    "- A decreased by half in the number of customers acquired in November 2011 in comparison to the \"eldest cohort\" which is December 2010 (12/2010). Moreover,the average number of customers acquired from January to November 2011 was of 272, which is 3 times less than in December 2010.  \n",
    "- The \"quality\" of the average customer acquired over 2011 decreased in comparison to the eldest cohort. For instance, the customers from the eldest cohort had the highest retention rates for all the 12 periods, and did purchases which monetary value was the highest. In addition, the average of the quantities purchased by clients from the most recent cohorts reduced by half in comparison to the eldest one.  \n",
    "- Our RFM model revealed that 62% of the customers, classified as silver or bronze, represented only 17% of the purchases made in 2011. However, 38% of the clients classified as \"golden\" represented 83% of the sales made in 2011. Among the golden clients, 12% belonged to the eldest cohort and they represented 48% of the purchases made during 2011. \n",
    "\n",
    "**Recommendations that can be adopted by the marketing team:**\n",
    "-  We recommend to implement a survey among the eldest and recent cohorts to analyze which are the factors affecting their puchase behaviour.\n",
    "- We recommend to target new offers to the customers living in countries situated in a range of of 1 to 2000 km. We consider that those clients are most likely to repond to the offers since the costs of distribution are not that high."
   ]
  }
 ],
 "metadata": {
  "kernelspec": {
   "display_name": "Python 3",
   "language": "python",
   "name": "python3"
  },
  "language_info": {
   "codemirror_mode": {
    "name": "ipython",
    "version": 3
   },
   "file_extension": ".py",
   "mimetype": "text/x-python",
   "name": "python",
   "nbconvert_exporter": "python",
   "pygments_lexer": "ipython3",
   "version": "3.7.4"
  },
  "toc": {
   "base_numbering": 1,
   "nav_menu": {},
   "number_sections": false,
   "sideBar": false,
   "skip_h1_title": false,
   "title_cell": "Table of Contents",
   "title_sidebar": "Contents",
   "toc_cell": true,
   "toc_position": {
    "height": "105px",
    "left": "1029px",
    "top": "110px",
    "width": "270px"
   },
   "toc_section_display": true,
   "toc_window_display": true
  }
 },
 "nbformat": 4,
 "nbformat_minor": 2
}
